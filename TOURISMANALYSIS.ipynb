{
 "cells": [
  {
   "cell_type": "code",
   "execution_count": 1,
   "metadata": {},
   "outputs": [],
   "source": [
    "#importing important libraries\n",
    "import numpy as np\n",
    "import pandas as pd\n",
    "import matplotlib.pyplot as plt\n",
    "import seaborn as sns \n"
   ]
  },
  {
   "cell_type": "code",
   "execution_count": 2,
   "metadata": {},
   "outputs": [
    {
     "data": {
      "text/html": [
       "<div>\n",
       "<style scoped>\n",
       "    .dataframe tbody tr th:only-of-type {\n",
       "        vertical-align: middle;\n",
       "    }\n",
       "\n",
       "    .dataframe tbody tr th {\n",
       "        vertical-align: top;\n",
       "    }\n",
       "\n",
       "    .dataframe thead th {\n",
       "        text-align: right;\n",
       "    }\n",
       "</style>\n",
       "<table border=\"1\" class=\"dataframe\">\n",
       "  <thead>\n",
       "    <tr style=\"text-align: right;\">\n",
       "      <th></th>\n",
       "      <th>TransactionId</th>\n",
       "      <th>UserId</th>\n",
       "      <th>VisitYear</th>\n",
       "      <th>VisitMonth</th>\n",
       "      <th>VisitMode</th>\n",
       "      <th>AttractionId</th>\n",
       "      <th>Rating</th>\n",
       "    </tr>\n",
       "  </thead>\n",
       "  <tbody>\n",
       "    <tr>\n",
       "      <th>0</th>\n",
       "      <td>3</td>\n",
       "      <td>70456</td>\n",
       "      <td>2022</td>\n",
       "      <td>10</td>\n",
       "      <td>2</td>\n",
       "      <td>640</td>\n",
       "      <td>5</td>\n",
       "    </tr>\n",
       "    <tr>\n",
       "      <th>1</th>\n",
       "      <td>8</td>\n",
       "      <td>7567</td>\n",
       "      <td>2022</td>\n",
       "      <td>10</td>\n",
       "      <td>4</td>\n",
       "      <td>640</td>\n",
       "      <td>5</td>\n",
       "    </tr>\n",
       "    <tr>\n",
       "      <th>2</th>\n",
       "      <td>9</td>\n",
       "      <td>79069</td>\n",
       "      <td>2022</td>\n",
       "      <td>10</td>\n",
       "      <td>3</td>\n",
       "      <td>640</td>\n",
       "      <td>5</td>\n",
       "    </tr>\n",
       "    <tr>\n",
       "      <th>3</th>\n",
       "      <td>10</td>\n",
       "      <td>31019</td>\n",
       "      <td>2022</td>\n",
       "      <td>10</td>\n",
       "      <td>3</td>\n",
       "      <td>640</td>\n",
       "      <td>3</td>\n",
       "    </tr>\n",
       "    <tr>\n",
       "      <th>4</th>\n",
       "      <td>15</td>\n",
       "      <td>43611</td>\n",
       "      <td>2022</td>\n",
       "      <td>10</td>\n",
       "      <td>2</td>\n",
       "      <td>640</td>\n",
       "      <td>3</td>\n",
       "    </tr>\n",
       "  </tbody>\n",
       "</table>\n",
       "</div>"
      ],
      "text/plain": [
       "   TransactionId  UserId  VisitYear  VisitMonth  VisitMode  AttractionId  \\\n",
       "0              3   70456       2022          10          2           640   \n",
       "1              8    7567       2022          10          4           640   \n",
       "2              9   79069       2022          10          3           640   \n",
       "3             10   31019       2022          10          3           640   \n",
       "4             15   43611       2022          10          2           640   \n",
       "\n",
       "   Rating  \n",
       "0       5  \n",
       "1       5  \n",
       "2       5  \n",
       "3       3  \n",
       "4       3  "
      ]
     },
     "execution_count": 2,
     "metadata": {},
     "output_type": "execute_result"
    }
   ],
   "source": [
    "#Importing Datasets\n",
    "\n",
    "transaction_data=pd.read_excel(\"C:/Users/SESA742087/Documents/PERSONAL/WeekendClassFiles/TourismProjectIput/Transaction.xlsx\")\n",
    "users_data=pd.read_excel(\"C:/Users/SESA742087/Documents/PERSONAL/WeekendClassFiles/TourismProjectIput/User.xlsx\")\n",
    "city_data=pd.read_excel(\"C:/Users/SESA742087/Documents/PERSONAL/WeekendClassFiles/TourismProjectIput/City.xlsx\")\n",
    "region_data=pd.read_excel(\"C:/Users/SESA742087/Documents/PERSONAL/WeekendClassFiles/TourismProjectIput/Region.xlsx\")\n",
    "country_data=pd.read_excel(\"C:/Users/SESA742087/Documents/PERSONAL/WeekendClassFiles/TourismProjectIput/Country.xlsx\")\n",
    "continent_data=pd.read_excel(\"C:/Users/SESA742087/Documents/PERSONAL/WeekendClassFiles/TourismProjectIput/Continent.xlsx\")\n",
    "type_data=pd.read_excel(\"C:/Users/SESA742087/Documents/PERSONAL/WeekendClassFiles/TourismProjectIput/Type.xlsx\")\n",
    "mode_data=pd.read_excel(\"C:/Users/SESA742087/Documents/PERSONAL/WeekendClassFiles/TourismProjectIput/Mode.xlsx\")\n",
    "item_data=pd.read_excel(\"C:/Users/SESA742087/Documents/PERSONAL/WeekendClassFiles/TourismProjectIput/Item.xlsx\")\n",
    "transaction_data.head()\n",
    "\n"
   ]
  },
  {
   "cell_type": "code",
   "execution_count": 3,
   "metadata": {},
   "outputs": [
    {
     "data": {
      "text/plain": [
       "(52930, 7)"
      ]
     },
     "execution_count": 3,
     "metadata": {},
     "output_type": "execute_result"
    }
   ],
   "source": [
    "transaction_data.shape"
   ]
  },
  {
   "cell_type": "code",
   "execution_count": 4,
   "metadata": {},
   "outputs": [
    {
     "name": "stdout",
     "output_type": "stream",
     "text": [
      "<class 'pandas.core.frame.DataFrame'>\n",
      "RangeIndex: 52930 entries, 0 to 52929\n",
      "Data columns (total 7 columns):\n",
      " #   Column         Non-Null Count  Dtype\n",
      "---  ------         --------------  -----\n",
      " 0   TransactionId  52930 non-null  int64\n",
      " 1   UserId         52930 non-null  int64\n",
      " 2   VisitYear      52930 non-null  int64\n",
      " 3   VisitMonth     52930 non-null  int64\n",
      " 4   VisitMode      52930 non-null  int64\n",
      " 5   AttractionId   52930 non-null  int64\n",
      " 6   Rating         52930 non-null  int64\n",
      "dtypes: int64(7)\n",
      "memory usage: 2.8 MB\n"
     ]
    }
   ],
   "source": [
    "transaction_data.info()"
   ]
  },
  {
   "cell_type": "code",
   "execution_count": 5,
   "metadata": {},
   "outputs": [
    {
     "data": {
      "text/plain": [
       "VisitMode\n",
       "2    21620\n",
       "3    15217\n",
       "4    10945\n",
       "5     4525\n",
       "1      623\n",
       "Name: count, dtype: int64"
      ]
     },
     "execution_count": 5,
     "metadata": {},
     "output_type": "execute_result"
    }
   ],
   "source": [
    "transaction_data['VisitMode'].value_counts()"
   ]
  },
  {
   "cell_type": "code",
   "execution_count": 6,
   "metadata": {},
   "outputs": [
    {
     "data": {
      "text/plain": [
       "Rating\n",
       "5    23936\n",
       "4    17966\n",
       "3     7730\n",
       "2     2035\n",
       "1     1263\n",
       "Name: count, dtype: int64"
      ]
     },
     "execution_count": 6,
     "metadata": {},
     "output_type": "execute_result"
    }
   ],
   "source": [
    "transaction_data['Rating'].value_counts()"
   ]
  },
  {
   "cell_type": "code",
   "execution_count": 7,
   "metadata": {},
   "outputs": [
    {
     "data": {
      "text/plain": [
       "TransactionId    0\n",
       "UserId           0\n",
       "VisitYear        0\n",
       "VisitMonth       0\n",
       "VisitMode        0\n",
       "AttractionId     0\n",
       "Rating           0\n",
       "dtype: int64"
      ]
     },
     "execution_count": 7,
     "metadata": {},
     "output_type": "execute_result"
    }
   ],
   "source": [
    "transaction_data.isnull().sum()"
   ]
  },
  {
   "cell_type": "code",
   "execution_count": 8,
   "metadata": {},
   "outputs": [
    {
     "data": {
      "text/plain": [
       "0"
      ]
     },
     "execution_count": 8,
     "metadata": {},
     "output_type": "execute_result"
    }
   ],
   "source": [
    "transaction_data.duplicated().sum()"
   ]
  },
  {
   "cell_type": "code",
   "execution_count": 9,
   "metadata": {},
   "outputs": [
    {
     "data": {
      "text/html": [
       "<div>\n",
       "<style scoped>\n",
       "    .dataframe tbody tr th:only-of-type {\n",
       "        vertical-align: middle;\n",
       "    }\n",
       "\n",
       "    .dataframe tbody tr th {\n",
       "        vertical-align: top;\n",
       "    }\n",
       "\n",
       "    .dataframe thead th {\n",
       "        text-align: right;\n",
       "    }\n",
       "</style>\n",
       "<table border=\"1\" class=\"dataframe\">\n",
       "  <thead>\n",
       "    <tr style=\"text-align: right;\">\n",
       "      <th></th>\n",
       "      <th>UserId</th>\n",
       "      <th>ContenentId</th>\n",
       "      <th>RegionId</th>\n",
       "      <th>CountryId</th>\n",
       "      <th>CityId</th>\n",
       "    </tr>\n",
       "  </thead>\n",
       "  <tbody>\n",
       "    <tr>\n",
       "      <th>0</th>\n",
       "      <td>14</td>\n",
       "      <td>5</td>\n",
       "      <td>20</td>\n",
       "      <td>155</td>\n",
       "      <td>220.0</td>\n",
       "    </tr>\n",
       "    <tr>\n",
       "      <th>1</th>\n",
       "      <td>16</td>\n",
       "      <td>3</td>\n",
       "      <td>14</td>\n",
       "      <td>101</td>\n",
       "      <td>3098.0</td>\n",
       "    </tr>\n",
       "    <tr>\n",
       "      <th>2</th>\n",
       "      <td>20</td>\n",
       "      <td>4</td>\n",
       "      <td>15</td>\n",
       "      <td>109</td>\n",
       "      <td>4303.0</td>\n",
       "    </tr>\n",
       "    <tr>\n",
       "      <th>3</th>\n",
       "      <td>23</td>\n",
       "      <td>1</td>\n",
       "      <td>4</td>\n",
       "      <td>22</td>\n",
       "      <td>154.0</td>\n",
       "    </tr>\n",
       "    <tr>\n",
       "      <th>4</th>\n",
       "      <td>25</td>\n",
       "      <td>3</td>\n",
       "      <td>14</td>\n",
       "      <td>101</td>\n",
       "      <td>3098.0</td>\n",
       "    </tr>\n",
       "  </tbody>\n",
       "</table>\n",
       "</div>"
      ],
      "text/plain": [
       "   UserId  ContenentId  RegionId  CountryId  CityId\n",
       "0      14            5        20        155   220.0\n",
       "1      16            3        14        101  3098.0\n",
       "2      20            4        15        109  4303.0\n",
       "3      23            1         4         22   154.0\n",
       "4      25            3        14        101  3098.0"
      ]
     },
     "execution_count": 9,
     "metadata": {},
     "output_type": "execute_result"
    }
   ],
   "source": [
    "users_data.head()"
   ]
  },
  {
   "cell_type": "code",
   "execution_count": 10,
   "metadata": {},
   "outputs": [
    {
     "data": {
      "text/plain": [
       "UserId         0\n",
       "ContenentId    0\n",
       "RegionId       0\n",
       "CountryId      0\n",
       "CityId         4\n",
       "dtype: int64"
      ]
     },
     "execution_count": 10,
     "metadata": {},
     "output_type": "execute_result"
    }
   ],
   "source": [
    "users_data.isnull().sum()"
   ]
  },
  {
   "cell_type": "code",
   "execution_count": 11,
   "metadata": {},
   "outputs": [
    {
     "data": {
      "text/plain": [
       "(33530, 5)"
      ]
     },
     "execution_count": 11,
     "metadata": {},
     "output_type": "execute_result"
    }
   ],
   "source": [
    "users_data.shape"
   ]
  },
  {
   "cell_type": "code",
   "execution_count": 12,
   "metadata": {},
   "outputs": [
    {
     "data": {
      "text/plain": [
       "0"
      ]
     },
     "execution_count": 12,
     "metadata": {},
     "output_type": "execute_result"
    }
   ],
   "source": [
    "users_data.duplicated().sum()"
   ]
  },
  {
   "cell_type": "code",
   "execution_count": 13,
   "metadata": {},
   "outputs": [
    {
     "data": {
      "text/plain": [
       "(9143, 3)"
      ]
     },
     "execution_count": 13,
     "metadata": {},
     "output_type": "execute_result"
    }
   ],
   "source": [
    "city_data.shape"
   ]
  },
  {
   "cell_type": "code",
   "execution_count": 14,
   "metadata": {},
   "outputs": [
    {
     "data": {
      "text/plain": [
       "CityId       0\n",
       "CityName     1\n",
       "CountryId    0\n",
       "dtype: int64"
      ]
     },
     "execution_count": 14,
     "metadata": {},
     "output_type": "execute_result"
    }
   ],
   "source": [
    "city_data.isnull().sum()"
   ]
  },
  {
   "cell_type": "code",
   "execution_count": 15,
   "metadata": {},
   "outputs": [
    {
     "data": {
      "text/plain": [
       "0"
      ]
     },
     "execution_count": 15,
     "metadata": {},
     "output_type": "execute_result"
    }
   ],
   "source": [
    "city_data.duplicated().sum()"
   ]
  },
  {
   "cell_type": "code",
   "execution_count": 16,
   "metadata": {},
   "outputs": [
    {
     "data": {
      "text/html": [
       "<div>\n",
       "<style scoped>\n",
       "    .dataframe tbody tr th:only-of-type {\n",
       "        vertical-align: middle;\n",
       "    }\n",
       "\n",
       "    .dataframe tbody tr th {\n",
       "        vertical-align: top;\n",
       "    }\n",
       "\n",
       "    .dataframe thead th {\n",
       "        text-align: right;\n",
       "    }\n",
       "</style>\n",
       "<table border=\"1\" class=\"dataframe\">\n",
       "  <thead>\n",
       "    <tr style=\"text-align: right;\">\n",
       "      <th></th>\n",
       "      <th>Region</th>\n",
       "      <th>RegionId</th>\n",
       "      <th>ContentId</th>\n",
       "    </tr>\n",
       "  </thead>\n",
       "  <tbody>\n",
       "    <tr>\n",
       "      <th>0</th>\n",
       "      <td>-</td>\n",
       "      <td>0</td>\n",
       "      <td>0</td>\n",
       "    </tr>\n",
       "    <tr>\n",
       "      <th>1</th>\n",
       "      <td>Central Africa</td>\n",
       "      <td>1</td>\n",
       "      <td>1</td>\n",
       "    </tr>\n",
       "    <tr>\n",
       "      <th>2</th>\n",
       "      <td>East Africa</td>\n",
       "      <td>2</td>\n",
       "      <td>1</td>\n",
       "    </tr>\n",
       "    <tr>\n",
       "      <th>3</th>\n",
       "      <td>North Africa</td>\n",
       "      <td>3</td>\n",
       "      <td>1</td>\n",
       "    </tr>\n",
       "    <tr>\n",
       "      <th>4</th>\n",
       "      <td>Southern Africa</td>\n",
       "      <td>4</td>\n",
       "      <td>1</td>\n",
       "    </tr>\n",
       "  </tbody>\n",
       "</table>\n",
       "</div>"
      ],
      "text/plain": [
       "            Region  RegionId  ContentId\n",
       "0                -         0          0\n",
       "1   Central Africa         1          1\n",
       "2      East Africa         2          1\n",
       "3     North Africa         3          1\n",
       "4  Southern Africa         4          1"
      ]
     },
     "execution_count": 16,
     "metadata": {},
     "output_type": "execute_result"
    }
   ],
   "source": [
    "region_data.head()"
   ]
  },
  {
   "cell_type": "code",
   "execution_count": 17,
   "metadata": {},
   "outputs": [
    {
     "data": {
      "text/plain": [
       "Region       0\n",
       "RegionId     0\n",
       "ContentId    0\n",
       "dtype: int64"
      ]
     },
     "execution_count": 17,
     "metadata": {},
     "output_type": "execute_result"
    }
   ],
   "source": [
    "region_data.isnull().sum()"
   ]
  },
  {
   "cell_type": "code",
   "execution_count": 18,
   "metadata": {},
   "outputs": [
    {
     "name": "stdout",
     "output_type": "stream",
     "text": [
      "<class 'pandas.core.frame.DataFrame'>\n",
      "RangeIndex: 165 entries, 0 to 164\n",
      "Data columns (total 3 columns):\n",
      " #   Column     Non-Null Count  Dtype \n",
      "---  ------     --------------  ----- \n",
      " 0   CountryId  165 non-null    int64 \n",
      " 1   Country    165 non-null    object\n",
      " 2   RegionId   165 non-null    int64 \n",
      "dtypes: int64(2), object(1)\n",
      "memory usage: 4.0+ KB\n"
     ]
    }
   ],
   "source": [
    "country_data.info()"
   ]
  },
  {
   "cell_type": "code",
   "execution_count": 19,
   "metadata": {},
   "outputs": [
    {
     "data": {
      "text/plain": [
       "CountryId    0\n",
       "Country      0\n",
       "RegionId     0\n",
       "dtype: int64"
      ]
     },
     "execution_count": 19,
     "metadata": {},
     "output_type": "execute_result"
    }
   ],
   "source": [
    "country_data.isnull().sum()"
   ]
  },
  {
   "cell_type": "code",
   "execution_count": 20,
   "metadata": {},
   "outputs": [
    {
     "data": {
      "text/plain": [
       "0"
      ]
     },
     "execution_count": 20,
     "metadata": {},
     "output_type": "execute_result"
    }
   ],
   "source": [
    "country_data.duplicated().sum()"
   ]
  },
  {
   "cell_type": "code",
   "execution_count": 21,
   "metadata": {},
   "outputs": [
    {
     "name": "stdout",
     "output_type": "stream",
     "text": [
      "<class 'pandas.core.frame.DataFrame'>\n",
      "RangeIndex: 6 entries, 0 to 5\n",
      "Data columns (total 2 columns):\n",
      " #   Column       Non-Null Count  Dtype \n",
      "---  ------       --------------  ----- \n",
      " 0   ContenentId  6 non-null      int64 \n",
      " 1   Contenent    6 non-null      object\n",
      "dtypes: int64(1), object(1)\n",
      "memory usage: 228.0+ bytes\n"
     ]
    }
   ],
   "source": [
    "continent_data.info()"
   ]
  },
  {
   "cell_type": "code",
   "execution_count": 22,
   "metadata": {},
   "outputs": [
    {
     "name": "stderr",
     "output_type": "stream",
     "text": [
      "C:\\Users\\SESA742087\\AppData\\Local\\Temp\\ipykernel_17440\\3265868700.py:5: FutureWarning: A value is trying to be set on a copy of a DataFrame or Series through chained assignment using an inplace method.\n",
      "The behavior will change in pandas 3.0. This inplace method will never work because the intermediate object on which we are setting values always behaves as a copy.\n",
      "\n",
      "For example, when doing 'df[col].method(value, inplace=True)', try using 'df.method({col: value}, inplace=True)' or df[col] = df[col].method(value) instead, to perform the operation inplace on the original object.\n",
      "\n",
      "\n",
      "  city_country_df['CityName'].fillna('Unknown',inplace=True)\n"
     ]
    },
    {
     "data": {
      "text/html": [
       "<div>\n",
       "<style scoped>\n",
       "    .dataframe tbody tr th:only-of-type {\n",
       "        vertical-align: middle;\n",
       "    }\n",
       "\n",
       "    .dataframe tbody tr th {\n",
       "        vertical-align: top;\n",
       "    }\n",
       "\n",
       "    .dataframe thead th {\n",
       "        text-align: right;\n",
       "    }\n",
       "</style>\n",
       "<table border=\"1\" class=\"dataframe\">\n",
       "  <thead>\n",
       "    <tr style=\"text-align: right;\">\n",
       "      <th></th>\n",
       "      <th>CityId</th>\n",
       "      <th>CityName</th>\n",
       "      <th>CountryId</th>\n",
       "      <th>Country</th>\n",
       "      <th>RegionId</th>\n",
       "    </tr>\n",
       "  </thead>\n",
       "  <tbody>\n",
       "    <tr>\n",
       "      <th>0</th>\n",
       "      <td>0</td>\n",
       "      <td>-</td>\n",
       "      <td>0</td>\n",
       "      <td>-</td>\n",
       "      <td>0</td>\n",
       "    </tr>\n",
       "    <tr>\n",
       "      <th>1</th>\n",
       "      <td>1</td>\n",
       "      <td>Douala</td>\n",
       "      <td>1</td>\n",
       "      <td>Cameroon</td>\n",
       "      <td>1</td>\n",
       "    </tr>\n",
       "    <tr>\n",
       "      <th>2</th>\n",
       "      <td>2</td>\n",
       "      <td>South Region</td>\n",
       "      <td>1</td>\n",
       "      <td>Cameroon</td>\n",
       "      <td>1</td>\n",
       "    </tr>\n",
       "    <tr>\n",
       "      <th>3</th>\n",
       "      <td>3</td>\n",
       "      <td>N'Djamena</td>\n",
       "      <td>2</td>\n",
       "      <td>Chad</td>\n",
       "      <td>1</td>\n",
       "    </tr>\n",
       "    <tr>\n",
       "      <th>4</th>\n",
       "      <td>4</td>\n",
       "      <td>Kigali</td>\n",
       "      <td>3</td>\n",
       "      <td>Rwanda</td>\n",
       "      <td>1</td>\n",
       "    </tr>\n",
       "  </tbody>\n",
       "</table>\n",
       "</div>"
      ],
      "text/plain": [
       "   CityId      CityName  CountryId   Country  RegionId\n",
       "0       0             -          0         -         0\n",
       "1       1        Douala          1  Cameroon         1\n",
       "2       2  South Region          1  Cameroon         1\n",
       "3       3     N'Djamena          2      Chad         1\n",
       "4       4        Kigali          3    Rwanda         1"
      ]
     },
     "execution_count": 22,
     "metadata": {},
     "output_type": "execute_result"
    }
   ],
   "source": [
    "#CONVERTING DATA INTO DATAFRAMES\n",
    "city_df=pd.DataFrame(city_data)\n",
    "country_df=pd.DataFrame(country_data)\n",
    "city_country_df=city_df.merge(country_df,on='CountryId',how='left')\n",
    "city_country_df['CityName'].fillna('Unknown',inplace=True)\n",
    "city_country_df.head()\n"
   ]
  },
  {
   "cell_type": "code",
   "execution_count": 23,
   "metadata": {},
   "outputs": [
    {
     "data": {
      "text/plain": [
       "CityId       0\n",
       "CityName     0\n",
       "CountryId    0\n",
       "Country      0\n",
       "RegionId     0\n",
       "dtype: int64"
      ]
     },
     "execution_count": 23,
     "metadata": {},
     "output_type": "execute_result"
    }
   ],
   "source": [
    "city_country_df.isnull().sum()"
   ]
  },
  {
   "cell_type": "code",
   "execution_count": 24,
   "metadata": {},
   "outputs": [
    {
     "data": {
      "text/html": [
       "<div>\n",
       "<style scoped>\n",
       "    .dataframe tbody tr th:only-of-type {\n",
       "        vertical-align: middle;\n",
       "    }\n",
       "\n",
       "    .dataframe tbody tr th {\n",
       "        vertical-align: top;\n",
       "    }\n",
       "\n",
       "    .dataframe thead th {\n",
       "        text-align: right;\n",
       "    }\n",
       "</style>\n",
       "<table border=\"1\" class=\"dataframe\">\n",
       "  <thead>\n",
       "    <tr style=\"text-align: right;\">\n",
       "      <th></th>\n",
       "      <th>UserId</th>\n",
       "      <th>ContenentId</th>\n",
       "      <th>RegionId</th>\n",
       "      <th>CountryId</th>\n",
       "      <th>CityId</th>\n",
       "      <th>CityName</th>\n",
       "      <th>Country</th>\n",
       "    </tr>\n",
       "  </thead>\n",
       "  <tbody>\n",
       "    <tr>\n",
       "      <th>0</th>\n",
       "      <td>14</td>\n",
       "      <td>5</td>\n",
       "      <td>20</td>\n",
       "      <td>155</td>\n",
       "      <td>220.0</td>\n",
       "      <td>Lagos</td>\n",
       "      <td>NIGERIA</td>\n",
       "    </tr>\n",
       "    <tr>\n",
       "      <th>1</th>\n",
       "      <td>16</td>\n",
       "      <td>3</td>\n",
       "      <td>14</td>\n",
       "      <td>101</td>\n",
       "      <td>3098.0</td>\n",
       "      <td>Jakarta</td>\n",
       "      <td>Indonesia</td>\n",
       "    </tr>\n",
       "    <tr>\n",
       "      <th>2</th>\n",
       "      <td>20</td>\n",
       "      <td>4</td>\n",
       "      <td>15</td>\n",
       "      <td>109</td>\n",
       "      <td>4303.0</td>\n",
       "      <td>Gold Coast</td>\n",
       "      <td>Australia</td>\n",
       "    </tr>\n",
       "    <tr>\n",
       "      <th>3</th>\n",
       "      <td>23</td>\n",
       "      <td>1</td>\n",
       "      <td>4</td>\n",
       "      <td>22</td>\n",
       "      <td>154.0</td>\n",
       "      <td>Meyerton</td>\n",
       "      <td>South Africa</td>\n",
       "    </tr>\n",
       "    <tr>\n",
       "      <th>4</th>\n",
       "      <td>25</td>\n",
       "      <td>3</td>\n",
       "      <td>14</td>\n",
       "      <td>101</td>\n",
       "      <td>3098.0</td>\n",
       "      <td>Jakarta</td>\n",
       "      <td>Indonesia</td>\n",
       "    </tr>\n",
       "  </tbody>\n",
       "</table>\n",
       "</div>"
      ],
      "text/plain": [
       "   UserId  ContenentId  RegionId  CountryId  CityId    CityName       Country\n",
       "0      14            5        20        155   220.0       Lagos       NIGERIA\n",
       "1      16            3        14        101  3098.0     Jakarta     Indonesia\n",
       "2      20            4        15        109  4303.0  Gold Coast     Australia\n",
       "3      23            1         4         22   154.0    Meyerton  South Africa\n",
       "4      25            3        14        101  3098.0     Jakarta     Indonesia"
      ]
     },
     "execution_count": 24,
     "metadata": {},
     "output_type": "execute_result"
    }
   ],
   "source": [
    "#Merging Users , city & Transaction data\n",
    "users_df=pd.DataFrame(users_data)\n",
    "users_city_df=users_df.merge(city_country_df,on='CityId',how='left')\n",
    "users_city_df.drop(columns=['RegionId_y','CountryId_y'],inplace=True)\n",
    "users_city_df.rename(columns={'RegionId_x':'RegionId','CountryId_x':'CountryId'},inplace=True)\n",
    "users_city_df.head()"
   ]
  },
  {
   "cell_type": "code",
   "execution_count": 25,
   "metadata": {},
   "outputs": [
    {
     "data": {
      "text/plain": [
       "UserId         0\n",
       "ContenentId    0\n",
       "RegionId       0\n",
       "CountryId      0\n",
       "CityId         4\n",
       "CityName       4\n",
       "Country        4\n",
       "dtype: int64"
      ]
     },
     "execution_count": 25,
     "metadata": {},
     "output_type": "execute_result"
    }
   ],
   "source": [
    "users_city_df.isnull().sum()"
   ]
  },
  {
   "cell_type": "code",
   "execution_count": 26,
   "metadata": {},
   "outputs": [
    {
     "data": {
      "text/plain": [
       "(33530, 7)"
      ]
     },
     "execution_count": 26,
     "metadata": {},
     "output_type": "execute_result"
    }
   ],
   "source": [
    "users_city_df.shape"
   ]
  },
  {
   "cell_type": "code",
   "execution_count": 27,
   "metadata": {},
   "outputs": [],
   "source": [
    "users_city_df.dropna(subset=['CityId', 'CityName', 'Country'],inplace=True)"
   ]
  },
  {
   "cell_type": "code",
   "execution_count": 28,
   "metadata": {},
   "outputs": [
    {
     "name": "stdout",
     "output_type": "stream",
     "text": [
      "False\n"
     ]
    }
   ],
   "source": [
    "#Merging Transaction, attraction & users data\n",
    "transaction_df=pd.DataFrame(transaction_data)\n",
    "attraction_df=pd.DataFrame(type_data)\n",
    "item_df=pd.DataFrame(item_data)\n",
    "are_equal=attraction_df.equals(item_df)\n",
    "print(are_equal)\n"
   ]
  },
  {
   "cell_type": "code",
   "execution_count": 29,
   "metadata": {},
   "outputs": [
    {
     "data": {
      "text/html": [
       "<div>\n",
       "<style scoped>\n",
       "    .dataframe tbody tr th:only-of-type {\n",
       "        vertical-align: middle;\n",
       "    }\n",
       "\n",
       "    .dataframe tbody tr th {\n",
       "        vertical-align: top;\n",
       "    }\n",
       "\n",
       "    .dataframe thead th {\n",
       "        text-align: right;\n",
       "    }\n",
       "</style>\n",
       "<table border=\"1\" class=\"dataframe\">\n",
       "  <thead>\n",
       "    <tr style=\"text-align: right;\">\n",
       "      <th></th>\n",
       "      <th>AttractionTypeId</th>\n",
       "      <th>AttractionType</th>\n",
       "    </tr>\n",
       "  </thead>\n",
       "  <tbody>\n",
       "    <tr>\n",
       "      <th>0</th>\n",
       "      <td>2</td>\n",
       "      <td>Ancient Ruins</td>\n",
       "    </tr>\n",
       "    <tr>\n",
       "      <th>1</th>\n",
       "      <td>10</td>\n",
       "      <td>Ballets</td>\n",
       "    </tr>\n",
       "    <tr>\n",
       "      <th>2</th>\n",
       "      <td>13</td>\n",
       "      <td>Beaches</td>\n",
       "    </tr>\n",
       "    <tr>\n",
       "      <th>3</th>\n",
       "      <td>19</td>\n",
       "      <td>Caverns &amp; Caves</td>\n",
       "    </tr>\n",
       "    <tr>\n",
       "      <th>4</th>\n",
       "      <td>34</td>\n",
       "      <td>Flea &amp; Street Markets</td>\n",
       "    </tr>\n",
       "  </tbody>\n",
       "</table>\n",
       "</div>"
      ],
      "text/plain": [
       "   AttractionTypeId         AttractionType\n",
       "0                 2          Ancient Ruins\n",
       "1                10                Ballets\n",
       "2                13                Beaches\n",
       "3                19        Caverns & Caves\n",
       "4                34  Flea & Street Markets"
      ]
     },
     "execution_count": 29,
     "metadata": {},
     "output_type": "execute_result"
    }
   ],
   "source": [
    "attraction_df.head()"
   ]
  },
  {
   "cell_type": "code",
   "execution_count": 30,
   "metadata": {},
   "outputs": [
    {
     "data": {
      "text/html": [
       "<div>\n",
       "<style scoped>\n",
       "    .dataframe tbody tr th:only-of-type {\n",
       "        vertical-align: middle;\n",
       "    }\n",
       "\n",
       "    .dataframe tbody tr th {\n",
       "        vertical-align: top;\n",
       "    }\n",
       "\n",
       "    .dataframe thead th {\n",
       "        text-align: right;\n",
       "    }\n",
       "</style>\n",
       "<table border=\"1\" class=\"dataframe\">\n",
       "  <thead>\n",
       "    <tr style=\"text-align: right;\">\n",
       "      <th></th>\n",
       "      <th>AttractionId</th>\n",
       "      <th>AttractionCityId</th>\n",
       "      <th>AttractionTypeId</th>\n",
       "      <th>Attraction</th>\n",
       "      <th>AttractionAddress</th>\n",
       "    </tr>\n",
       "  </thead>\n",
       "  <tbody>\n",
       "    <tr>\n",
       "      <th>0</th>\n",
       "      <td>369</td>\n",
       "      <td>1</td>\n",
       "      <td>13</td>\n",
       "      <td>Kuta Beach - Bali</td>\n",
       "      <td>Kuta</td>\n",
       "    </tr>\n",
       "    <tr>\n",
       "      <th>1</th>\n",
       "      <td>481</td>\n",
       "      <td>1</td>\n",
       "      <td>13</td>\n",
       "      <td>Nusa Dua Beach</td>\n",
       "      <td>Semenanjung Nusa Dua, Nusa Dua 80517 Indonesia</td>\n",
       "    </tr>\n",
       "    <tr>\n",
       "      <th>2</th>\n",
       "      <td>640</td>\n",
       "      <td>1</td>\n",
       "      <td>63</td>\n",
       "      <td>Sacred Monkey Forest Sanctuary</td>\n",
       "      <td>Jl. Monkey Forest, Ubud 80571 Indonesia</td>\n",
       "    </tr>\n",
       "    <tr>\n",
       "      <th>3</th>\n",
       "      <td>650</td>\n",
       "      <td>1</td>\n",
       "      <td>13</td>\n",
       "      <td>Sanur Beach</td>\n",
       "      <td>Sanur</td>\n",
       "    </tr>\n",
       "    <tr>\n",
       "      <th>4</th>\n",
       "      <td>673</td>\n",
       "      <td>1</td>\n",
       "      <td>13</td>\n",
       "      <td>Seminyak Beach</td>\n",
       "      <td>Seminyak</td>\n",
       "    </tr>\n",
       "  </tbody>\n",
       "</table>\n",
       "</div>"
      ],
      "text/plain": [
       "   AttractionId  AttractionCityId  AttractionTypeId  \\\n",
       "0           369                 1                13   \n",
       "1           481                 1                13   \n",
       "2           640                 1                63   \n",
       "3           650                 1                13   \n",
       "4           673                 1                13   \n",
       "\n",
       "                       Attraction  \\\n",
       "0               Kuta Beach - Bali   \n",
       "1                  Nusa Dua Beach   \n",
       "2  Sacred Monkey Forest Sanctuary   \n",
       "3                     Sanur Beach   \n",
       "4                  Seminyak Beach   \n",
       "\n",
       "                                AttractionAddress  \n",
       "0                                            Kuta  \n",
       "1  Semenanjung Nusa Dua, Nusa Dua 80517 Indonesia  \n",
       "2         Jl. Monkey Forest, Ubud 80571 Indonesia  \n",
       "3                                           Sanur  \n",
       "4                                        Seminyak  "
      ]
     },
     "execution_count": 30,
     "metadata": {},
     "output_type": "execute_result"
    }
   ],
   "source": [
    "item_df.head()"
   ]
  },
  {
   "cell_type": "code",
   "execution_count": 31,
   "metadata": {},
   "outputs": [
    {
     "data": {
      "text/plain": [
       "0"
      ]
     },
     "execution_count": 31,
     "metadata": {},
     "output_type": "execute_result"
    }
   ],
   "source": [
    "attraction_df.duplicated().sum()"
   ]
  },
  {
   "cell_type": "code",
   "execution_count": 32,
   "metadata": {},
   "outputs": [
    {
     "data": {
      "text/plain": [
       "0"
      ]
     },
     "execution_count": 32,
     "metadata": {},
     "output_type": "execute_result"
    }
   ],
   "source": [
    "item_df.duplicated().sum()"
   ]
  },
  {
   "cell_type": "code",
   "execution_count": 33,
   "metadata": {},
   "outputs": [
    {
     "data": {
      "text/html": [
       "<div>\n",
       "<style scoped>\n",
       "    .dataframe tbody tr th:only-of-type {\n",
       "        vertical-align: middle;\n",
       "    }\n",
       "\n",
       "    .dataframe tbody tr th {\n",
       "        vertical-align: top;\n",
       "    }\n",
       "\n",
       "    .dataframe thead th {\n",
       "        text-align: right;\n",
       "    }\n",
       "</style>\n",
       "<table border=\"1\" class=\"dataframe\">\n",
       "  <thead>\n",
       "    <tr style=\"text-align: right;\">\n",
       "      <th></th>\n",
       "      <th>AttractionId</th>\n",
       "      <th>AttractionCityId</th>\n",
       "      <th>AttractionTypeId</th>\n",
       "      <th>Attraction</th>\n",
       "      <th>AttractionAddress</th>\n",
       "      <th>AttractionType</th>\n",
       "    </tr>\n",
       "  </thead>\n",
       "  <tbody>\n",
       "    <tr>\n",
       "      <th>0</th>\n",
       "      <td>369</td>\n",
       "      <td>1</td>\n",
       "      <td>13</td>\n",
       "      <td>Kuta Beach - Bali</td>\n",
       "      <td>Kuta</td>\n",
       "      <td>Beaches</td>\n",
       "    </tr>\n",
       "    <tr>\n",
       "      <th>1</th>\n",
       "      <td>481</td>\n",
       "      <td>1</td>\n",
       "      <td>13</td>\n",
       "      <td>Nusa Dua Beach</td>\n",
       "      <td>Semenanjung Nusa Dua, Nusa Dua 80517 Indonesia</td>\n",
       "      <td>Beaches</td>\n",
       "    </tr>\n",
       "    <tr>\n",
       "      <th>2</th>\n",
       "      <td>640</td>\n",
       "      <td>1</td>\n",
       "      <td>63</td>\n",
       "      <td>Sacred Monkey Forest Sanctuary</td>\n",
       "      <td>Jl. Monkey Forest, Ubud 80571 Indonesia</td>\n",
       "      <td>Nature &amp; Wildlife Areas</td>\n",
       "    </tr>\n",
       "    <tr>\n",
       "      <th>3</th>\n",
       "      <td>650</td>\n",
       "      <td>1</td>\n",
       "      <td>13</td>\n",
       "      <td>Sanur Beach</td>\n",
       "      <td>Sanur</td>\n",
       "      <td>Beaches</td>\n",
       "    </tr>\n",
       "    <tr>\n",
       "      <th>4</th>\n",
       "      <td>673</td>\n",
       "      <td>1</td>\n",
       "      <td>13</td>\n",
       "      <td>Seminyak Beach</td>\n",
       "      <td>Seminyak</td>\n",
       "      <td>Beaches</td>\n",
       "    </tr>\n",
       "  </tbody>\n",
       "</table>\n",
       "</div>"
      ],
      "text/plain": [
       "   AttractionId  AttractionCityId  AttractionTypeId  \\\n",
       "0           369                 1                13   \n",
       "1           481                 1                13   \n",
       "2           640                 1                63   \n",
       "3           650                 1                13   \n",
       "4           673                 1                13   \n",
       "\n",
       "                       Attraction  \\\n",
       "0               Kuta Beach - Bali   \n",
       "1                  Nusa Dua Beach   \n",
       "2  Sacred Monkey Forest Sanctuary   \n",
       "3                     Sanur Beach   \n",
       "4                  Seminyak Beach   \n",
       "\n",
       "                                AttractionAddress           AttractionType  \n",
       "0                                            Kuta                  Beaches  \n",
       "1  Semenanjung Nusa Dua, Nusa Dua 80517 Indonesia                  Beaches  \n",
       "2         Jl. Monkey Forest, Ubud 80571 Indonesia  Nature & Wildlife Areas  \n",
       "3                                           Sanur                  Beaches  \n",
       "4                                        Seminyak                  Beaches  "
      ]
     },
     "execution_count": 33,
     "metadata": {},
     "output_type": "execute_result"
    }
   ],
   "source": [
    "attraction_merged_df=item_df.merge(attraction_df,on='AttractionTypeId',how='left')\n",
    "attraction_merged_df.head()"
   ]
  },
  {
   "cell_type": "code",
   "execution_count": 34,
   "metadata": {},
   "outputs": [
    {
     "data": {
      "text/plain": [
       "AttractionId         0\n",
       "AttractionCityId     0\n",
       "AttractionTypeId     0\n",
       "Attraction           0\n",
       "AttractionAddress    0\n",
       "AttractionType       0\n",
       "dtype: int64"
      ]
     },
     "execution_count": 34,
     "metadata": {},
     "output_type": "execute_result"
    }
   ],
   "source": [
    "attraction_merged_df.isnull().sum()"
   ]
  },
  {
   "cell_type": "code",
   "execution_count": 35,
   "metadata": {},
   "outputs": [
    {
     "data": {
      "text/plain": [
       "0"
      ]
     },
     "execution_count": 35,
     "metadata": {},
     "output_type": "execute_result"
    }
   ],
   "source": [
    "attraction_merged_df.duplicated().sum()"
   ]
  },
  {
   "cell_type": "code",
   "execution_count": 36,
   "metadata": {},
   "outputs": [
    {
     "name": "stdout",
     "output_type": "stream",
     "text": [
      "<class 'pandas.core.frame.DataFrame'>\n",
      "RangeIndex: 6 entries, 0 to 5\n",
      "Data columns (total 2 columns):\n",
      " #   Column       Non-Null Count  Dtype \n",
      "---  ------       --------------  ----- \n",
      " 0   VisitModeId  6 non-null      int64 \n",
      " 1   VisitMode    6 non-null      object\n",
      "dtypes: int64(1), object(1)\n",
      "memory usage: 228.0+ bytes\n"
     ]
    }
   ],
   "source": [
    "mode_df=pd.DataFrame(mode_data)\n",
    "mode_df.info()"
   ]
  },
  {
   "cell_type": "code",
   "execution_count": 37,
   "metadata": {},
   "outputs": [
    {
     "data": {
      "text/html": [
       "<div>\n",
       "<style scoped>\n",
       "    .dataframe tbody tr th:only-of-type {\n",
       "        vertical-align: middle;\n",
       "    }\n",
       "\n",
       "    .dataframe tbody tr th {\n",
       "        vertical-align: top;\n",
       "    }\n",
       "\n",
       "    .dataframe thead th {\n",
       "        text-align: right;\n",
       "    }\n",
       "</style>\n",
       "<table border=\"1\" class=\"dataframe\">\n",
       "  <thead>\n",
       "    <tr style=\"text-align: right;\">\n",
       "      <th></th>\n",
       "      <th>TransactionId</th>\n",
       "      <th>UserId</th>\n",
       "      <th>VisitYear</th>\n",
       "      <th>VisitMonth</th>\n",
       "      <th>VisitModeId</th>\n",
       "      <th>AttractionId</th>\n",
       "      <th>Rating</th>\n",
       "      <th>VisitMode</th>\n",
       "    </tr>\n",
       "  </thead>\n",
       "  <tbody>\n",
       "    <tr>\n",
       "      <th>0</th>\n",
       "      <td>3</td>\n",
       "      <td>70456</td>\n",
       "      <td>2022</td>\n",
       "      <td>10</td>\n",
       "      <td>2</td>\n",
       "      <td>640</td>\n",
       "      <td>5</td>\n",
       "      <td>Couples</td>\n",
       "    </tr>\n",
       "    <tr>\n",
       "      <th>1</th>\n",
       "      <td>8</td>\n",
       "      <td>7567</td>\n",
       "      <td>2022</td>\n",
       "      <td>10</td>\n",
       "      <td>4</td>\n",
       "      <td>640</td>\n",
       "      <td>5</td>\n",
       "      <td>Friends</td>\n",
       "    </tr>\n",
       "    <tr>\n",
       "      <th>2</th>\n",
       "      <td>9</td>\n",
       "      <td>79069</td>\n",
       "      <td>2022</td>\n",
       "      <td>10</td>\n",
       "      <td>3</td>\n",
       "      <td>640</td>\n",
       "      <td>5</td>\n",
       "      <td>Family</td>\n",
       "    </tr>\n",
       "    <tr>\n",
       "      <th>3</th>\n",
       "      <td>10</td>\n",
       "      <td>31019</td>\n",
       "      <td>2022</td>\n",
       "      <td>10</td>\n",
       "      <td>3</td>\n",
       "      <td>640</td>\n",
       "      <td>3</td>\n",
       "      <td>Family</td>\n",
       "    </tr>\n",
       "    <tr>\n",
       "      <th>4</th>\n",
       "      <td>15</td>\n",
       "      <td>43611</td>\n",
       "      <td>2022</td>\n",
       "      <td>10</td>\n",
       "      <td>2</td>\n",
       "      <td>640</td>\n",
       "      <td>3</td>\n",
       "      <td>Couples</td>\n",
       "    </tr>\n",
       "  </tbody>\n",
       "</table>\n",
       "</div>"
      ],
      "text/plain": [
       "   TransactionId  UserId  VisitYear  VisitMonth  VisitModeId  AttractionId  \\\n",
       "0              3   70456       2022          10            2           640   \n",
       "1              8    7567       2022          10            4           640   \n",
       "2              9   79069       2022          10            3           640   \n",
       "3             10   31019       2022          10            3           640   \n",
       "4             15   43611       2022          10            2           640   \n",
       "\n",
       "   Rating VisitMode  \n",
       "0       5   Couples  \n",
       "1       5   Friends  \n",
       "2       5    Family  \n",
       "3       3    Family  \n",
       "4       3   Couples  "
      ]
     },
     "execution_count": 37,
     "metadata": {},
     "output_type": "execute_result"
    }
   ],
   "source": [
    "#merging transaction & visit mode \n",
    "\n",
    "transaction_mode_df=pd.merge(transaction_df,mode_df,left_on='VisitMode',right_on='VisitModeId',how='left')\n",
    "transaction_mode_df.isnull().sum()\n",
    "transaction_mode_df.drop(columns=['VisitModeId'],inplace=True)\n",
    "transaction_mode_df.rename(columns={'VisitMode_x':'VisitModeId','VisitMode_y':'VisitMode'},inplace=True)\n",
    "transaction_mode_df.head()"
   ]
  },
  {
   "cell_type": "code",
   "execution_count": 38,
   "metadata": {},
   "outputs": [
    {
     "data": {
      "text/plain": [
       "TransactionId        0\n",
       "UserId               0\n",
       "VisitYear            0\n",
       "VisitMonth           0\n",
       "VisitModeId          0\n",
       "AttractionId         0\n",
       "Rating               0\n",
       "VisitMode            0\n",
       "AttractionCityId     0\n",
       "AttractionTypeId     0\n",
       "Attraction           0\n",
       "AttractionAddress    0\n",
       "AttractionType       0\n",
       "dtype: int64"
      ]
     },
     "execution_count": 38,
     "metadata": {},
     "output_type": "execute_result"
    }
   ],
   "source": [
    "transaction_type_df=transaction_mode_df.merge(attraction_merged_df,on='AttractionId',how='left')\n",
    "transaction_type_df.isnull().sum()"
   ]
  },
  {
   "cell_type": "code",
   "execution_count": 39,
   "metadata": {},
   "outputs": [
    {
     "data": {
      "text/plain": [
       "0"
      ]
     },
     "execution_count": 39,
     "metadata": {},
     "output_type": "execute_result"
    }
   ],
   "source": [
    "transaction_type_df.duplicated().sum()"
   ]
  },
  {
   "cell_type": "code",
   "execution_count": 40,
   "metadata": {},
   "outputs": [
    {
     "data": {
      "text/html": [
       "<div>\n",
       "<style scoped>\n",
       "    .dataframe tbody tr th:only-of-type {\n",
       "        vertical-align: middle;\n",
       "    }\n",
       "\n",
       "    .dataframe tbody tr th {\n",
       "        vertical-align: top;\n",
       "    }\n",
       "\n",
       "    .dataframe thead th {\n",
       "        text-align: right;\n",
       "    }\n",
       "</style>\n",
       "<table border=\"1\" class=\"dataframe\">\n",
       "  <thead>\n",
       "    <tr style=\"text-align: right;\">\n",
       "      <th></th>\n",
       "      <th>TransactionId</th>\n",
       "      <th>UserId</th>\n",
       "      <th>VisitYear</th>\n",
       "      <th>VisitMonth</th>\n",
       "      <th>VisitModeId</th>\n",
       "      <th>AttractionId</th>\n",
       "      <th>Rating</th>\n",
       "      <th>VisitMode</th>\n",
       "      <th>AttractionCityId</th>\n",
       "      <th>AttractionTypeId</th>\n",
       "      <th>Attraction</th>\n",
       "      <th>AttractionAddress</th>\n",
       "      <th>AttractionType</th>\n",
       "      <th>ContenentId</th>\n",
       "      <th>RegionId</th>\n",
       "      <th>CountryId</th>\n",
       "      <th>CityId</th>\n",
       "      <th>CityName</th>\n",
       "      <th>Country</th>\n",
       "    </tr>\n",
       "  </thead>\n",
       "  <tbody>\n",
       "    <tr>\n",
       "      <th>0</th>\n",
       "      <td>3</td>\n",
       "      <td>70456</td>\n",
       "      <td>2022</td>\n",
       "      <td>10</td>\n",
       "      <td>2</td>\n",
       "      <td>640</td>\n",
       "      <td>5</td>\n",
       "      <td>Couples</td>\n",
       "      <td>1</td>\n",
       "      <td>63</td>\n",
       "      <td>Sacred Monkey Forest Sanctuary</td>\n",
       "      <td>Jl. Monkey Forest, Ubud 80571 Indonesia</td>\n",
       "      <td>Nature &amp; Wildlife Areas</td>\n",
       "      <td>5.0</td>\n",
       "      <td>21.0</td>\n",
       "      <td>163.0</td>\n",
       "      <td>4341.0</td>\n",
       "      <td>Guildford</td>\n",
       "      <td>Australia</td>\n",
       "    </tr>\n",
       "    <tr>\n",
       "      <th>1</th>\n",
       "      <td>8</td>\n",
       "      <td>7567</td>\n",
       "      <td>2022</td>\n",
       "      <td>10</td>\n",
       "      <td>4</td>\n",
       "      <td>640</td>\n",
       "      <td>5</td>\n",
       "      <td>Friends</td>\n",
       "      <td>1</td>\n",
       "      <td>63</td>\n",
       "      <td>Sacred Monkey Forest Sanctuary</td>\n",
       "      <td>Jl. Monkey Forest, Ubud 80571 Indonesia</td>\n",
       "      <td>Nature &amp; Wildlife Areas</td>\n",
       "      <td>2.0</td>\n",
       "      <td>8.0</td>\n",
       "      <td>48.0</td>\n",
       "      <td>464.0</td>\n",
       "      <td>Ontario</td>\n",
       "      <td>Canada</td>\n",
       "    </tr>\n",
       "    <tr>\n",
       "      <th>2</th>\n",
       "      <td>9</td>\n",
       "      <td>79069</td>\n",
       "      <td>2022</td>\n",
       "      <td>10</td>\n",
       "      <td>3</td>\n",
       "      <td>640</td>\n",
       "      <td>5</td>\n",
       "      <td>Family</td>\n",
       "      <td>1</td>\n",
       "      <td>63</td>\n",
       "      <td>Sacred Monkey Forest Sanctuary</td>\n",
       "      <td>Jl. Monkey Forest, Ubud 80571 Indonesia</td>\n",
       "      <td>Nature &amp; Wildlife Areas</td>\n",
       "      <td>2.0</td>\n",
       "      <td>9.0</td>\n",
       "      <td>54.0</td>\n",
       "      <td>774.0</td>\n",
       "      <td>Brazil</td>\n",
       "      <td>United States</td>\n",
       "    </tr>\n",
       "    <tr>\n",
       "      <th>3</th>\n",
       "      <td>10</td>\n",
       "      <td>31019</td>\n",
       "      <td>2022</td>\n",
       "      <td>10</td>\n",
       "      <td>3</td>\n",
       "      <td>640</td>\n",
       "      <td>3</td>\n",
       "      <td>Family</td>\n",
       "      <td>1</td>\n",
       "      <td>63</td>\n",
       "      <td>Sacred Monkey Forest Sanctuary</td>\n",
       "      <td>Jl. Monkey Forest, Ubud 80571 Indonesia</td>\n",
       "      <td>Nature &amp; Wildlife Areas</td>\n",
       "      <td>5.0</td>\n",
       "      <td>17.0</td>\n",
       "      <td>135.0</td>\n",
       "      <td>583.0</td>\n",
       "      <td>Zurich</td>\n",
       "      <td>Canada</td>\n",
       "    </tr>\n",
       "    <tr>\n",
       "      <th>4</th>\n",
       "      <td>15</td>\n",
       "      <td>43611</td>\n",
       "      <td>2022</td>\n",
       "      <td>10</td>\n",
       "      <td>2</td>\n",
       "      <td>640</td>\n",
       "      <td>3</td>\n",
       "      <td>Couples</td>\n",
       "      <td>1</td>\n",
       "      <td>63</td>\n",
       "      <td>Sacred Monkey Forest Sanctuary</td>\n",
       "      <td>Jl. Monkey Forest, Ubud 80571 Indonesia</td>\n",
       "      <td>Nature &amp; Wildlife Areas</td>\n",
       "      <td>5.0</td>\n",
       "      <td>21.0</td>\n",
       "      <td>163.0</td>\n",
       "      <td>1396.0</td>\n",
       "      <td>Manchester</td>\n",
       "      <td>United States</td>\n",
       "    </tr>\n",
       "  </tbody>\n",
       "</table>\n",
       "</div>"
      ],
      "text/plain": [
       "   TransactionId  UserId  VisitYear  VisitMonth  VisitModeId  AttractionId  \\\n",
       "0              3   70456       2022          10            2           640   \n",
       "1              8    7567       2022          10            4           640   \n",
       "2              9   79069       2022          10            3           640   \n",
       "3             10   31019       2022          10            3           640   \n",
       "4             15   43611       2022          10            2           640   \n",
       "\n",
       "   Rating VisitMode  AttractionCityId  AttractionTypeId  \\\n",
       "0       5   Couples                 1                63   \n",
       "1       5   Friends                 1                63   \n",
       "2       5    Family                 1                63   \n",
       "3       3    Family                 1                63   \n",
       "4       3   Couples                 1                63   \n",
       "\n",
       "                       Attraction                        AttractionAddress  \\\n",
       "0  Sacred Monkey Forest Sanctuary  Jl. Monkey Forest, Ubud 80571 Indonesia   \n",
       "1  Sacred Monkey Forest Sanctuary  Jl. Monkey Forest, Ubud 80571 Indonesia   \n",
       "2  Sacred Monkey Forest Sanctuary  Jl. Monkey Forest, Ubud 80571 Indonesia   \n",
       "3  Sacred Monkey Forest Sanctuary  Jl. Monkey Forest, Ubud 80571 Indonesia   \n",
       "4  Sacred Monkey Forest Sanctuary  Jl. Monkey Forest, Ubud 80571 Indonesia   \n",
       "\n",
       "            AttractionType  ContenentId  RegionId  CountryId  CityId  \\\n",
       "0  Nature & Wildlife Areas          5.0      21.0      163.0  4341.0   \n",
       "1  Nature & Wildlife Areas          2.0       8.0       48.0   464.0   \n",
       "2  Nature & Wildlife Areas          2.0       9.0       54.0   774.0   \n",
       "3  Nature & Wildlife Areas          5.0      17.0      135.0   583.0   \n",
       "4  Nature & Wildlife Areas          5.0      21.0      163.0  1396.0   \n",
       "\n",
       "     CityName        Country  \n",
       "0   Guildford      Australia  \n",
       "1     Ontario         Canada  \n",
       "2      Brazil  United States  \n",
       "3      Zurich         Canada  \n",
       "4  Manchester  United States  "
      ]
     },
     "execution_count": 40,
     "metadata": {},
     "output_type": "execute_result"
    }
   ],
   "source": [
    "merged_df=transaction_type_df.merge(users_city_df,on='UserId',how='left')\n",
    "merged_df.head()"
   ]
  },
  {
   "cell_type": "code",
   "execution_count": 41,
   "metadata": {},
   "outputs": [
    {
     "data": {
      "text/plain": [
       "TransactionId        0\n",
       "UserId               0\n",
       "VisitYear            0\n",
       "VisitMonth           0\n",
       "VisitModeId          0\n",
       "AttractionId         0\n",
       "Rating               0\n",
       "VisitMode            0\n",
       "AttractionCityId     0\n",
       "AttractionTypeId     0\n",
       "Attraction           0\n",
       "AttractionAddress    0\n",
       "AttractionType       0\n",
       "ContenentId          0\n",
       "RegionId             0\n",
       "CountryId            0\n",
       "CityId               0\n",
       "CityName             0\n",
       "Country              0\n",
       "dtype: int64"
      ]
     },
     "execution_count": 41,
     "metadata": {},
     "output_type": "execute_result"
    }
   ],
   "source": [
    "\n",
    "merged_df.dropna(subset=['CityId', 'CityName', 'Country','ContenentId','RegionId','CountryId'],inplace=True)\n",
    "merged_df.isnull().sum()"
   ]
  },
  {
   "cell_type": "code",
   "execution_count": 42,
   "metadata": {},
   "outputs": [
    {
     "name": "stdout",
     "output_type": "stream",
     "text": [
      "<class 'pandas.core.frame.DataFrame'>\n",
      "RangeIndex: 52922 entries, 0 to 52921\n",
      "Data columns (total 24 columns):\n",
      " #   Column                      Non-Null Count  Dtype  \n",
      "---  ------                      --------------  -----  \n",
      " 0   TransactionId               52922 non-null  int64  \n",
      " 1   UserId                      52922 non-null  int64  \n",
      " 2   VisitYear                   52922 non-null  int64  \n",
      " 3   VisitMonth                  52922 non-null  int64  \n",
      " 4   VisitModeId                 52922 non-null  int64  \n",
      " 5   AttractionId                52922 non-null  int64  \n",
      " 6   Rating                      52922 non-null  int64  \n",
      " 7   VisitMode                   52922 non-null  object \n",
      " 8   AttractionCityId            52922 non-null  int64  \n",
      " 9   AttractionTypeId            52922 non-null  int64  \n",
      " 10  Attraction                  52922 non-null  object \n",
      " 11  AttractionAddress           52922 non-null  object \n",
      " 12  AttractionType              52922 non-null  object \n",
      " 13  ContenentId                 52922 non-null  float64\n",
      " 14  RegionId                    52922 non-null  float64\n",
      " 15  CountryId                   52922 non-null  float64\n",
      " 16  CityId                      52922 non-null  float64\n",
      " 17  CityName                    52922 non-null  object \n",
      " 18  Country                     52922 non-null  object \n",
      " 19  AverageRatingforAttraction  52922 non-null  float64\n",
      " 20  AveragrRatingbyUser         52922 non-null  float64\n",
      " 21  MostFreqAttractionType      52922 non-null  int64  \n",
      " 22  number_of_visits            52922 non-null  int64  \n",
      " 23  season                      52922 non-null  object \n",
      "dtypes: float64(6), int64(11), object(7)\n",
      "memory usage: 9.7+ MB\n"
     ]
    }
   ],
   "source": [
    "average_rating_attraction=merged_df.groupby('AttractionId')['Rating'].mean().reset_index()\n",
    "average_rating_attraction.columns=['AttractionId','AverageRatingforAttraction']\n",
    "\n",
    "average_rating_user=merged_df.groupby('UserId')['Rating'].mean().reset_index()\n",
    "average_rating_user.columns=['UserId','AveragrRatingbyUser']\n",
    "\n",
    "most_freq_attraction=merged_df.groupby(['UserId','AttractionTypeId']).size().reset_index(name='count')\n",
    "most_freq_attraction=most_freq_attraction.loc[most_freq_attraction.groupby('UserId')['count'].idxmax()]\n",
    "most_freq_attraction=most_freq_attraction[['UserId','AttractionTypeId']]\n",
    "most_freq_attraction.columns=['UserId','MostFreqAttractionType']\n",
    "\n",
    "number_of_visits=merged_df.groupby('AttractionId').size().reset_index()\n",
    "number_of_visits.columns=['AttractionId','number_of_visits']\n",
    "\n",
    "merged_df=pd.merge(merged_df,average_rating_attraction,on='AttractionId',how='left')\n",
    "merged_df=pd.merge(merged_df,average_rating_user,on='UserId',how='left')\n",
    "merged_df=pd.merge(merged_df,most_freq_attraction,on='UserId',how='left')\n",
    "merged_df=pd.merge(merged_df,number_of_visits,on='AttractionId',how='left')\n",
    "\n",
    "def get_season(month):\n",
    "    if month in[1,2,3]:\n",
    "        return 'Spring'\n",
    "    elif month in [4,5,6,7]:\n",
    "        return 'Summer'\n",
    "    elif month in [8,9,10]:\n",
    "        return 'Monsoon'\n",
    "    else:\n",
    "        return 'Winter'\n",
    "    \n",
    "merged_df['season']=merged_df['VisitMonth'].apply(get_season)\n",
    "\n",
    "merged_df.info()\n",
    "\n",
    "\n"
   ]
  },
  {
   "cell_type": "code",
   "execution_count": 43,
   "metadata": {},
   "outputs": [
    {
     "data": {
      "text/plain": [
       "TransactionId                 0\n",
       "UserId                        0\n",
       "VisitYear                     0\n",
       "VisitMonth                    0\n",
       "VisitModeId                   0\n",
       "AttractionId                  0\n",
       "Rating                        0\n",
       "VisitMode                     0\n",
       "AttractionCityId              0\n",
       "AttractionTypeId              0\n",
       "Attraction                    0\n",
       "AttractionAddress             0\n",
       "AttractionType                0\n",
       "ContenentId                   0\n",
       "RegionId                      0\n",
       "CountryId                     0\n",
       "CityId                        0\n",
       "CityName                      0\n",
       "Country                       0\n",
       "AverageRatingforAttraction    0\n",
       "AveragrRatingbyUser           0\n",
       "MostFreqAttractionType        0\n",
       "number_of_visits              0\n",
       "season                        0\n",
       "dtype: int64"
      ]
     },
     "execution_count": 43,
     "metadata": {},
     "output_type": "execute_result"
    }
   ],
   "source": [
    "merged_df.isnull().sum()"
   ]
  },
  {
   "cell_type": "code",
   "execution_count": 44,
   "metadata": {},
   "outputs": [
    {
     "data": {
      "text/plain": [
       "0"
      ]
     },
     "execution_count": 44,
     "metadata": {},
     "output_type": "execute_result"
    }
   ],
   "source": [
    "merged_df.duplicated().sum()"
   ]
  },
  {
   "cell_type": "code",
   "execution_count": 45,
   "metadata": {},
   "outputs": [
    {
     "data": {
      "text/html": [
       "<div>\n",
       "<style scoped>\n",
       "    .dataframe tbody tr th:only-of-type {\n",
       "        vertical-align: middle;\n",
       "    }\n",
       "\n",
       "    .dataframe tbody tr th {\n",
       "        vertical-align: top;\n",
       "    }\n",
       "\n",
       "    .dataframe thead th {\n",
       "        text-align: right;\n",
       "    }\n",
       "</style>\n",
       "<table border=\"1\" class=\"dataframe\">\n",
       "  <thead>\n",
       "    <tr style=\"text-align: right;\">\n",
       "      <th></th>\n",
       "      <th>TransactionId</th>\n",
       "      <th>UserId</th>\n",
       "      <th>VisitYear</th>\n",
       "      <th>VisitMonth</th>\n",
       "      <th>VisitModeId</th>\n",
       "      <th>AttractionId</th>\n",
       "      <th>Rating</th>\n",
       "      <th>VisitMode</th>\n",
       "      <th>AttractionCityId</th>\n",
       "      <th>AttractionTypeId</th>\n",
       "      <th>...</th>\n",
       "      <th>CountryId</th>\n",
       "      <th>CityId</th>\n",
       "      <th>CityName</th>\n",
       "      <th>Country</th>\n",
       "      <th>AverageRatingforAttraction</th>\n",
       "      <th>AveragrRatingbyUser</th>\n",
       "      <th>MostFreqAttractionType</th>\n",
       "      <th>number_of_visits</th>\n",
       "      <th>season</th>\n",
       "      <th>TotalVisitsByUser</th>\n",
       "    </tr>\n",
       "  </thead>\n",
       "  <tbody>\n",
       "    <tr>\n",
       "      <th>0</th>\n",
       "      <td>3</td>\n",
       "      <td>70456</td>\n",
       "      <td>2022</td>\n",
       "      <td>10</td>\n",
       "      <td>2</td>\n",
       "      <td>640</td>\n",
       "      <td>5</td>\n",
       "      <td>Couples</td>\n",
       "      <td>1</td>\n",
       "      <td>63</td>\n",
       "      <td>...</td>\n",
       "      <td>163.0</td>\n",
       "      <td>4341.0</td>\n",
       "      <td>Guildford</td>\n",
       "      <td>Australia</td>\n",
       "      <td>4.26703</td>\n",
       "      <td>5.0</td>\n",
       "      <td>63</td>\n",
       "      <td>13197</td>\n",
       "      <td>Monsoon</td>\n",
       "      <td>1</td>\n",
       "    </tr>\n",
       "    <tr>\n",
       "      <th>1</th>\n",
       "      <td>8</td>\n",
       "      <td>7567</td>\n",
       "      <td>2022</td>\n",
       "      <td>10</td>\n",
       "      <td>4</td>\n",
       "      <td>640</td>\n",
       "      <td>5</td>\n",
       "      <td>Friends</td>\n",
       "      <td>1</td>\n",
       "      <td>63</td>\n",
       "      <td>...</td>\n",
       "      <td>48.0</td>\n",
       "      <td>464.0</td>\n",
       "      <td>Ontario</td>\n",
       "      <td>Canada</td>\n",
       "      <td>4.26703</td>\n",
       "      <td>5.0</td>\n",
       "      <td>63</td>\n",
       "      <td>13197</td>\n",
       "      <td>Monsoon</td>\n",
       "      <td>1</td>\n",
       "    </tr>\n",
       "    <tr>\n",
       "      <th>2</th>\n",
       "      <td>9</td>\n",
       "      <td>79069</td>\n",
       "      <td>2022</td>\n",
       "      <td>10</td>\n",
       "      <td>3</td>\n",
       "      <td>640</td>\n",
       "      <td>5</td>\n",
       "      <td>Family</td>\n",
       "      <td>1</td>\n",
       "      <td>63</td>\n",
       "      <td>...</td>\n",
       "      <td>54.0</td>\n",
       "      <td>774.0</td>\n",
       "      <td>Brazil</td>\n",
       "      <td>United States</td>\n",
       "      <td>4.26703</td>\n",
       "      <td>5.0</td>\n",
       "      <td>63</td>\n",
       "      <td>13197</td>\n",
       "      <td>Monsoon</td>\n",
       "      <td>1</td>\n",
       "    </tr>\n",
       "    <tr>\n",
       "      <th>3</th>\n",
       "      <td>10</td>\n",
       "      <td>31019</td>\n",
       "      <td>2022</td>\n",
       "      <td>10</td>\n",
       "      <td>3</td>\n",
       "      <td>640</td>\n",
       "      <td>3</td>\n",
       "      <td>Family</td>\n",
       "      <td>1</td>\n",
       "      <td>63</td>\n",
       "      <td>...</td>\n",
       "      <td>135.0</td>\n",
       "      <td>583.0</td>\n",
       "      <td>Zurich</td>\n",
       "      <td>Canada</td>\n",
       "      <td>4.26703</td>\n",
       "      <td>3.0</td>\n",
       "      <td>63</td>\n",
       "      <td>13197</td>\n",
       "      <td>Monsoon</td>\n",
       "      <td>2</td>\n",
       "    </tr>\n",
       "    <tr>\n",
       "      <th>4</th>\n",
       "      <td>15</td>\n",
       "      <td>43611</td>\n",
       "      <td>2022</td>\n",
       "      <td>10</td>\n",
       "      <td>2</td>\n",
       "      <td>640</td>\n",
       "      <td>3</td>\n",
       "      <td>Couples</td>\n",
       "      <td>1</td>\n",
       "      <td>63</td>\n",
       "      <td>...</td>\n",
       "      <td>163.0</td>\n",
       "      <td>1396.0</td>\n",
       "      <td>Manchester</td>\n",
       "      <td>United States</td>\n",
       "      <td>4.26703</td>\n",
       "      <td>3.0</td>\n",
       "      <td>63</td>\n",
       "      <td>13197</td>\n",
       "      <td>Monsoon</td>\n",
       "      <td>3</td>\n",
       "    </tr>\n",
       "  </tbody>\n",
       "</table>\n",
       "<p>5 rows × 25 columns</p>\n",
       "</div>"
      ],
      "text/plain": [
       "   TransactionId  UserId  VisitYear  VisitMonth  VisitModeId  AttractionId  \\\n",
       "0              3   70456       2022          10            2           640   \n",
       "1              8    7567       2022          10            4           640   \n",
       "2              9   79069       2022          10            3           640   \n",
       "3             10   31019       2022          10            3           640   \n",
       "4             15   43611       2022          10            2           640   \n",
       "\n",
       "   Rating VisitMode  AttractionCityId  AttractionTypeId  ... CountryId  \\\n",
       "0       5   Couples                 1                63  ...     163.0   \n",
       "1       5   Friends                 1                63  ...      48.0   \n",
       "2       5    Family                 1                63  ...      54.0   \n",
       "3       3    Family                 1                63  ...     135.0   \n",
       "4       3   Couples                 1                63  ...     163.0   \n",
       "\n",
       "   CityId    CityName        Country  AverageRatingforAttraction  \\\n",
       "0  4341.0   Guildford      Australia                     4.26703   \n",
       "1   464.0     Ontario         Canada                     4.26703   \n",
       "2   774.0      Brazil  United States                     4.26703   \n",
       "3   583.0      Zurich         Canada                     4.26703   \n",
       "4  1396.0  Manchester  United States                     4.26703   \n",
       "\n",
       "   AveragrRatingbyUser  MostFreqAttractionType number_of_visits   season  \\\n",
       "0                  5.0                      63            13197  Monsoon   \n",
       "1                  5.0                      63            13197  Monsoon   \n",
       "2                  5.0                      63            13197  Monsoon   \n",
       "3                  3.0                      63            13197  Monsoon   \n",
       "4                  3.0                      63            13197  Monsoon   \n",
       "\n",
       "   TotalVisitsByUser  \n",
       "0                  1  \n",
       "1                  1  \n",
       "2                  1  \n",
       "3                  2  \n",
       "4                  3  \n",
       "\n",
       "[5 rows x 25 columns]"
      ]
     },
     "execution_count": 45,
     "metadata": {},
     "output_type": "execute_result"
    }
   ],
   "source": [
    "totalvisitsbyuser=merged_df.groupby('UserId').size().reset_index(name='TotalVisitsByUser')\n",
    "merged_df=merged_df.merge(totalvisitsbyuser,on='UserId',how='left')\n",
    "\n",
    "merged_df.head()"
   ]
  },
  {
   "cell_type": "markdown",
   "metadata": {},
   "source": []
  },
  {
   "cell_type": "code",
   "execution_count": 46,
   "metadata": {},
   "outputs": [],
   "source": [
    "from sklearn.model_selection import train_test_split\n",
    "from sklearn.tree import DecisionTreeRegressor\n",
    "from sklearn import metrics\n",
    "\n",
    "# getting dummy variable for season clumn\n",
    "merged_df = pd.get_dummies(merged_df, columns=['season'])\n",
    "merged_df.to_csv(\"RaitingPredictorInputs.csv\",index=False)"
   ]
  },
  {
   "cell_type": "code",
   "execution_count": 47,
   "metadata": {},
   "outputs": [
    {
     "name": "stdout",
     "output_type": "stream",
     "text": [
      "Training Means Squared Error:0.03413867319784192\n",
      "Training R2Score:0.9640054395775108\n",
      "Training Root Mean Squared Error:0.18476653700776532\n",
      "Testing Means Squared Error:0.4828580794646039\n",
      "Testing R2Score:0.472943693652096\n",
      "Testing Root Mean Squared Error:0.6948799029074045\n"
     ]
    }
   ],
   "source": [
    "#definig input & output variables\n",
    "x=merged_df[['UserId','AttractionId','AttractionTypeId','CityId','CountryId','RegionId','ContenentId','VisitModeId','AverageRatingforAttraction','AveragrRatingbyUser','MostFreqAttractionType','number_of_visits','season_Summer','season_Monsoon','season_Winter','season_Spring','TotalVisitsByUser']]\n",
    "y=merged_df['Rating']\n",
    "\n",
    "#Splitting Training & testing Data\n",
    "x_train,x_test,y_train,y_test=train_test_split(x,y,test_size=0.2,random_state=50)\n",
    "\n",
    "#model training\n",
    "model=DecisionTreeRegressor()\n",
    "model.fit(x_train,y_train)\n",
    "\n",
    "#Making Prediction on Training Data\n",
    "y_train_pred=model.predict(x_train)\n",
    "#Evalvuatong the model performance on Training Data\n",
    "mse_train=metrics.mean_squared_error(y_train,y_train_pred)\n",
    "r2_train=metrics.r2_score(y_train,y_train_pred)\n",
    "rmse_train=metrics.root_mean_squared_error(y_train,y_train_pred)\n",
    "\n",
    "\n",
    "#Making Predictions on Testing Data\n",
    "y_test_pred=model.predict(x_test)\n",
    "#evalvuating the model performance on Testing data\n",
    "mse_test=metrics.mean_squared_error(y_test,y_test_pred)\n",
    "r2_test=metrics.r2_score(y_test,y_test_pred)\n",
    "rmse_test=metrics.root_mean_squared_error(y_test,y_test_pred)\n",
    "\n",
    "print(f\"Training Means Squared Error:{mse_train}\")\n",
    "print(f\"Training R2Score:{r2_train}\")\n",
    "print(f\"Training Root Mean Squared Error:{rmse_train}\")\n",
    "\n",
    "print(f\"Testing Means Squared Error:{mse_test}\")\n",
    "print(f\"Testing R2Score:{r2_test}\")\n",
    "print(f\"Testing Root Mean Squared Error:{rmse_test}\")\n"
   ]
  },
  {
   "cell_type": "code",
   "execution_count": 47,
   "metadata": {},
   "outputs": [
    {
     "name": "stdout",
     "output_type": "stream",
     "text": [
      "Training Means Squared Error:0.22418926656246185\n",
      "Training R2Score:0.763623058795929\n",
      "Training Root Mean Squared Error:0.4734863042831421\n",
      "Testing Means Squared Error:0.22860777378082275\n",
      "Testing R2Score:0.7504667043685913\n",
      "Testing Root Mean Squared Error:0.47812944650650024\n"
     ]
    }
   ],
   "source": [
    "import xgboost as xgb\n",
    "\n",
    "#Splitting Training & testing Data\n",
    "x_train,x_test,y_train,y_test=train_test_split(x,y,test_size=0.2,random_state=50)\n",
    "\n",
    "# Create XD Matrix\n",
    "dtrain = xgb.DMatrix(x_train, label=y_train)\n",
    "dtest = xgb.DMatrix(x_test, label=y_test)\n",
    "\n",
    "#Defining Parameters for XGBoost\n",
    "params = {\n",
    "    'objective': 'reg:squarederror',\n",
    "    'max_depth': 6,\n",
    "    'eta': 0.1,\n",
    "    'subsample': 0.8,\n",
    "    'colsample_bytree': 0.8\n",
    "}\n",
    "\n",
    "#model training\n",
    "num_rounds = 50\n",
    "bst = xgb.train(params, dtrain, num_rounds)\n",
    "\n",
    "\n",
    "#Making Prediction on Training Data\n",
    "y_train_pred=bst.predict(dtrain)\n",
    "#Evalvuatong the model performance on Training Data\n",
    "mse_train=metrics.mean_squared_error(y_train,y_train_pred)\n",
    "r2_train=metrics.r2_score(y_train,y_train_pred)\n",
    "rmse_train=metrics.root_mean_squared_error(y_train,y_train_pred)\n",
    "\n",
    "\n",
    "#Making Predictions on Testing Data\n",
    "y_test_pred=bst.predict(dtest)\n",
    "#evalvuating the model performance on Testing data\n",
    "mse_test=metrics.mean_squared_error(y_test,y_test_pred)\n",
    "r2_test=metrics.r2_score(y_test,y_test_pred)\n",
    "rmse_test=metrics.root_mean_squared_error(y_test,y_test_pred)\n",
    "\n",
    "print(f\"Training Means Squared Error:{mse_train}\")\n",
    "print(f\"Training R2Score:{r2_train}\")\n",
    "print(f\"Training Root Mean Squared Error:{rmse_train}\")\n",
    "\n",
    "print(f\"Testing Means Squared Error:{mse_test}\")\n",
    "print(f\"Testing R2Score:{r2_test}\")\n",
    "print(f\"Testing Root Mean Squared Error:{rmse_test}\")\n"
   ]
  },
  {
   "cell_type": "code",
   "execution_count": 48,
   "metadata": {},
   "outputs": [
    {
     "name": "stdout",
     "output_type": "stream",
     "text": [
      "Training Means Squared Error:0.2356812880865882\n",
      "Training R2Score:0.7515063249435526\n",
      "Training Root Mean Squared Error:0.48547017219041194\n",
      "Testing Means Squared Error:0.22476179080369246\n",
      "Testing R2Score:0.7546647259159751\n",
      "Testing Root Mean Squared Error:0.47409048799115605\n"
     ]
    },
    {
     "data": {
      "text/plain": [
       "['ratingpredictor.pkl']"
      ]
     },
     "execution_count": 48,
     "metadata": {},
     "output_type": "execute_result"
    }
   ],
   "source": [
    "# Hyperparameter Tuning \n",
    "import joblib\n",
    "from sklearn.model_selection import GridSearchCV\n",
    "from sklearn.ensemble import GradientBoostingRegressor\n",
    "\n",
    "param_grid = {\n",
    "    'n_estimators': [100, 200, 300],\n",
    "    'learning_rate': [0.01, 0.1, 0.2],\n",
    "    'max_depth': [3, 4, 5]\n",
    "}\n",
    "\n",
    "grid_search = GridSearchCV(estimator=GradientBoostingRegressor(random_state=50), param_grid=param_grid, cv=5, scoring='neg_mean_squared_error')\n",
    "grid_search.fit(x_train, y_train)\n",
    "\n",
    "best_model = grid_search.best_estimator_\n",
    "\n",
    "best_model.fit(x_train,y_train)\n",
    "\n",
    "#Making Prediction on Training Data\n",
    "y_train_pred=best_model.predict(x_train)\n",
    "#Evalvuatong the model performance on Training Data\n",
    "mse_train=metrics.mean_squared_error(y_train,y_train_pred)\n",
    "r2_train=metrics.r2_score(y_train,y_train_pred)\n",
    "rmse_train=metrics.root_mean_squared_error(y_train,y_train_pred)\n",
    "\n",
    "\n",
    "#Making Predictions on Testing Data\n",
    "y_test_pred=best_model.predict(x_test)\n",
    "#evalvuating the model performance on Testing data\n",
    "mse_test=metrics.mean_squared_error(y_test,y_test_pred)\n",
    "r2_test=metrics.r2_score(y_test,y_test_pred)\n",
    "rmse_test=metrics.root_mean_squared_error(y_test,y_test_pred)\n",
    "\n",
    "print(f\"Training Means Squared Error:{mse_train}\")\n",
    "print(f\"Training R2Score:{r2_train}\")\n",
    "print(f\"Training Root Mean Squared Error:{rmse_train}\")\n",
    "\n",
    "print(f\"Testing Means Squared Error:{mse_test}\")\n",
    "print(f\"Testing R2Score:{r2_test}\")\n",
    "print(f\"Testing Root Mean Squared Error:{rmse_test}\")\n",
    "\n",
    "joblib.dump(best_model,'ratingpredictor.pkl')\n",
    "\n"
   ]
  },
  {
   "cell_type": "code",
   "execution_count": 50,
   "metadata": {},
   "outputs": [
    {
     "name": "stdout",
     "output_type": "stream",
     "text": [
      "<class 'pandas.core.frame.DataFrame'>\n",
      "RangeIndex: 52922 entries, 0 to 52921\n",
      "Data columns (total 28 columns):\n",
      " #   Column                      Non-Null Count  Dtype  \n",
      "---  ------                      --------------  -----  \n",
      " 0   TransactionId               52922 non-null  int64  \n",
      " 1   UserId                      52922 non-null  int64  \n",
      " 2   VisitYear                   52922 non-null  int64  \n",
      " 3   VisitMonth                  52922 non-null  int64  \n",
      " 4   VisitModeId                 52922 non-null  int64  \n",
      " 5   AttractionId                52922 non-null  int64  \n",
      " 6   Rating                      52922 non-null  int64  \n",
      " 7   VisitMode                   52922 non-null  object \n",
      " 8   AttractionCityId            52922 non-null  int64  \n",
      " 9   AttractionTypeId            52922 non-null  int64  \n",
      " 10  Attraction                  52922 non-null  object \n",
      " 11  AttractionAddress           52922 non-null  object \n",
      " 12  AttractionType              52922 non-null  object \n",
      " 13  ContenentId                 52922 non-null  float64\n",
      " 14  RegionId                    52922 non-null  float64\n",
      " 15  CountryId                   52922 non-null  float64\n",
      " 16  CityId                      52922 non-null  float64\n",
      " 17  CityName                    52922 non-null  object \n",
      " 18  Country                     52922 non-null  object \n",
      " 19  AverageRatingforAttraction  52922 non-null  float64\n",
      " 20  AveragrRatingbyUser         52922 non-null  float64\n",
      " 21  MostFreqAttractionType      52922 non-null  int64  \n",
      " 22  number_of_visits            52922 non-null  int64  \n",
      " 23  TotalVisitsByUser           52922 non-null  int64  \n",
      " 24  season_Monsoon              52922 non-null  bool   \n",
      " 25  season_Spring               52922 non-null  bool   \n",
      " 26  season_Summer               52922 non-null  bool   \n",
      " 27  season_Winter               52922 non-null  bool   \n",
      "dtypes: bool(4), float64(6), int64(12), object(6)\n",
      "memory usage: 9.9+ MB\n"
     ]
    }
   ],
   "source": [
    "#checking userid\n",
    "merged_df.info()"
   ]
  },
  {
   "cell_type": "code",
   "execution_count": 47,
   "metadata": {},
   "outputs": [],
   "source": [
    "#ML Model to predict the VisitMode\n",
    "import requests\n",
    "from math import radians, sin, cos, sqrt, atan2\n",
    "from sklearn.ensemble import RandomForestClassifier\n",
    "#additional feature to find previousVisitmodefor user\n",
    "\n",
    "previousvisitmodebyuser=merged_df.groupby('UserId')['VisitModeId'].apply(lambda x: x.mode()[0]).reset_index()\n",
    "previousvisitmodebyuser.columns=['UserId','PreviousVisitModebyUser']\n",
    "visitmode_df=merged_df.merge(previousvisitmodebyuser,on='UserId',how='left')\n",
    "\n",
    "#additional feature to find the previous visit modes for a attraction\n",
    "previousvisitmodeforattraction=visitmode_df.groupby('AttractionId')['VisitModeId'].apply(lambda x:x.mode()[0]).reset_index()\n",
    "previousvisitmodeforattraction.columns=['AttractionId','previousvisitmodeforattraction']\n",
    "visitmode_df=visitmode_df.merge(previousvisitmodeforattraction,on='AttractionId',how='left')\n",
    "\n",
    "\n",
    "#Additional Feature Based on Visit Year & Visit Month\n",
    "def check_vacation(month):\n",
    "    if month in [4,5,11,12]:\n",
    "        return True\n",
    "    else:\n",
    "        return False\n",
    "    \n",
    "visitmode_df['IsVacationTime']=visitmode_df['VisitMonth'].apply(check_vacation)\n",
    "visitmode_df.to_csv(\"visitmode_csv\",index=False)\n",
    "\n",
    "#Assisgning Input & Output variables\n",
    "visitmode_x=visitmode_df[['UserId','AttractionId','AttractionTypeId','AttractionCityId','CityId','IsVacationTime','PreviousVisitModebyUser','previousvisitmodeforattraction','number_of_visits','season_Summer','season_Monsoon','season_Winter','season_Spring','Rating','AverageRatingforAttraction']]\n",
    "visitmode_y=visitmode_df['VisitMode']\n",
    "\n",
    "#Spliting the training and testing data\n",
    "\n",
    "visitmode_x_train,visitmode_x_test,visitmode_y_train,visitmode_y_test=train_test_split(visitmode_x,visitmode_y,test_size=0.2,random_state=40)\n",
    "\n",
    "\n",
    "\n",
    "               \n"
   ]
  },
  {
   "cell_type": "code",
   "execution_count": 52,
   "metadata": {},
   "outputs": [
    {
     "name": "stdout",
     "output_type": "stream",
     "text": [
      "Training Accuracy: 0.9921817795309068\n",
      "Training Recall: 0.989806935204873\n",
      "Training F1Score: 0.9882582095284596\n",
      "Testing Accuracy: 0.9021256495040151\n",
      "Testing Recall: 0.8916771332092219\n",
      "Testing F1Score: 0.8785815643259431\n"
     ]
    }
   ],
   "source": [
    "#Model Building & Training\n",
    "\n",
    "model1_visitmode=RandomForestClassifier(n_estimators=50,random_state=40)\n",
    "model1_visitmode.fit(visitmode_x_train,visitmode_y_train)\n",
    "\n",
    "#Predicting Vales on Training Dataset\n",
    "visitmode_y_trainpred=model1_visitmode.predict(visitmode_x_train)\n",
    "# Checking the performance on Training Dataset\n",
    "accuracy_train=metrics.accuracy_score(visitmode_y_trainpred,visitmode_y_train)\n",
    "recall_train=metrics.recall_score(visitmode_y_trainpred,visitmode_y_train,average='macro')\n",
    "f1score_train=metrics.f1_score(visitmode_y_trainpred,visitmode_y_train,average='macro')\n",
    "\n",
    "print(\"Training Accuracy:\",accuracy_train)\n",
    "print(\"Training Recall:\",recall_train)\n",
    "print(\"Training F1Score:\",f1score_train)\n",
    "\n",
    "#Predicting Vales on Testing Dataset\n",
    "visitmode_y_testpred=model1_visitmode.predict(visitmode_x_test)\n",
    "# Checking the performance on Training Dataset\n",
    "accuracy_test=metrics.accuracy_score(visitmode_y_testpred,visitmode_y_test)\n",
    "recall_test=metrics.recall_score(visitmode_y_testpred,visitmode_y_test,average='macro')\n",
    "f1score_test=metrics.f1_score(visitmode_y_testpred,visitmode_y_test,average='macro')\n",
    "\n",
    "print(\"Testing Accuracy:\",accuracy_test)\n",
    "print(\"Testing Recall:\",recall_test)\n",
    "print(\"Testing F1Score:\",f1score_test)"
   ]
  },
  {
   "cell_type": "code",
   "execution_count": 48,
   "metadata": {},
   "outputs": [
    {
     "name": "stdout",
     "output_type": "stream",
     "text": [
      "Fitting 5 folds for each of 216 candidates, totalling 1080 fits\n"
     ]
    },
    {
     "name": "stderr",
     "output_type": "stream",
     "text": [
      "c:\\Users\\SESA742087\\AppData\\Local\\Programs\\Python\\Python312\\Lib\\site-packages\\sklearn\\model_selection\\_validation.py:528: FitFailedWarning: \n",
      "360 fits failed out of a total of 1080.\n",
      "The score on these train-test partitions for these parameters will be set to nan.\n",
      "If these failures are not expected, you can try to debug them by setting error_score='raise'.\n",
      "\n",
      "Below are more details about the failures:\n",
      "--------------------------------------------------------------------------------\n",
      "230 fits failed with the following error:\n",
      "Traceback (most recent call last):\n",
      "  File \"c:\\Users\\SESA742087\\AppData\\Local\\Programs\\Python\\Python312\\Lib\\site-packages\\sklearn\\model_selection\\_validation.py\", line 866, in _fit_and_score\n",
      "    estimator.fit(X_train, y_train, **fit_params)\n",
      "  File \"c:\\Users\\SESA742087\\AppData\\Local\\Programs\\Python\\Python312\\Lib\\site-packages\\sklearn\\base.py\", line 1382, in wrapper\n",
      "    estimator._validate_params()\n",
      "  File \"c:\\Users\\SESA742087\\AppData\\Local\\Programs\\Python\\Python312\\Lib\\site-packages\\sklearn\\base.py\", line 436, in _validate_params\n",
      "    validate_parameter_constraints(\n",
      "  File \"c:\\Users\\SESA742087\\AppData\\Local\\Programs\\Python\\Python312\\Lib\\site-packages\\sklearn\\utils\\_param_validation.py\", line 98, in validate_parameter_constraints\n",
      "    raise InvalidParameterError(\n",
      "sklearn.utils._param_validation.InvalidParameterError: The 'max_features' parameter of RandomForestClassifier must be an int in the range [1, inf), a float in the range (0.0, 1.0], a str among {'sqrt', 'log2'} or None. Got 'auto' instead.\n",
      "\n",
      "--------------------------------------------------------------------------------\n",
      "130 fits failed with the following error:\n",
      "Traceback (most recent call last):\n",
      "  File \"c:\\Users\\SESA742087\\AppData\\Local\\Programs\\Python\\Python312\\Lib\\site-packages\\sklearn\\model_selection\\_validation.py\", line 866, in _fit_and_score\n",
      "    estimator.fit(X_train, y_train, **fit_params)\n",
      "  File \"c:\\Users\\SESA742087\\AppData\\Local\\Programs\\Python\\Python312\\Lib\\site-packages\\sklearn\\base.py\", line 1382, in wrapper\n",
      "    estimator._validate_params()\n",
      "  File \"c:\\Users\\SESA742087\\AppData\\Local\\Programs\\Python\\Python312\\Lib\\site-packages\\sklearn\\base.py\", line 436, in _validate_params\n",
      "    validate_parameter_constraints(\n",
      "  File \"c:\\Users\\SESA742087\\AppData\\Local\\Programs\\Python\\Python312\\Lib\\site-packages\\sklearn\\utils\\_param_validation.py\", line 98, in validate_parameter_constraints\n",
      "    raise InvalidParameterError(\n",
      "sklearn.utils._param_validation.InvalidParameterError: The 'max_features' parameter of RandomForestClassifier must be an int in the range [1, inf), a float in the range (0.0, 1.0], a str among {'log2', 'sqrt'} or None. Got 'auto' instead.\n",
      "\n",
      "  warnings.warn(some_fits_failed_message, FitFailedWarning)\n",
      "c:\\Users\\SESA742087\\AppData\\Local\\Programs\\Python\\Python312\\Lib\\site-packages\\sklearn\\model_selection\\_search.py:1108: UserWarning: One or more of the test scores are non-finite: [       nan        nan        nan        nan        nan        nan\n",
      "        nan        nan        nan 0.91255876 0.91206274 0.91210991\n",
      " 0.9123226  0.91286574 0.9129838  0.90920463 0.91265319 0.91135415\n",
      " 0.9131492  0.91059822 0.91144855 0.91303114 0.91211003 0.91055092\n",
      " 0.91251148 0.90927537 0.90828349        nan        nan        nan\n",
      "        nan        nan        nan        nan        nan        nan\n",
      " 0.90830719 0.91388146 0.91456642 0.91378696 0.91411763 0.91463729\n",
      " 0.9140468  0.91362163 0.91395229 0.90828354 0.91364526 0.91513332\n",
      " 0.91444832 0.91409399 0.91475538 0.9137397  0.91352713 0.91336179\n",
      "        nan        nan        nan        nan        nan        nan\n",
      "        nan        nan        nan 0.90509485 0.9131256  0.91468453\n",
      " 0.91459005 0.91442471 0.91444832 0.91364522 0.91336181 0.91340903\n",
      " 0.90547275 0.91362167 0.91449557 0.91428296 0.9145428  0.91473176\n",
      " 0.91392866 0.91343264 0.91352711        nan        nan        nan\n",
      "        nan        nan        nan        nan        nan        nan\n",
      " 0.90551996 0.91312561 0.91496798 0.9141885  0.91442472 0.91473178\n",
      " 0.91329091 0.91355074 0.91366885 0.90528379 0.9134799  0.91499159\n",
      " 0.91433022 0.91456641 0.9146609  0.91366883 0.91345628 0.91388146\n",
      "        nan        nan        nan        nan        nan        nan\n",
      "        nan        nan        nan 0.91246425 0.91133044 0.91244054\n",
      " 0.91265325 0.91125952 0.91116514 0.91201556 0.91097634 0.91170837\n",
      " 0.91378693 0.91090539 0.90849598 0.91350353 0.9109997  0.90998402\n",
      " 0.91234608 0.91031483 0.91192089        nan        nan        nan\n",
      "        nan        nan        nan        nan        nan        nan\n",
      " 0.89921345 0.90804739 0.91307838 0.91177926 0.91244062 0.91437748\n",
      " 0.91383417 0.91369248 0.91395228 0.89937879 0.90776391 0.91298393\n",
      " 0.91173202 0.91234614 0.91404679 0.91381057 0.91414125 0.91402314\n",
      "        nan        nan        nan        nan        nan        nan\n",
      "        nan        nan        nan 0.89167867 0.90464605 0.91236979\n",
      " 0.91017309 0.91097618 0.91395231 0.9141885  0.91366886 0.91392866\n",
      " 0.89156059 0.90457521 0.912606   0.90955898 0.91111789 0.91399956\n",
      " 0.91357435 0.91373971 0.91421212        nan        nan        nan\n",
      "        nan        nan        nan        nan        nan        nan\n",
      " 0.89151333 0.90445712 0.91253512 0.91026757 0.91135409 0.91388148\n",
      " 0.91397589 0.91381058 0.91428298 0.89104092 0.90431536 0.91241704\n",
      " 0.91007862 0.9107872  0.91404681 0.91402316 0.91373969 0.91399953]\n",
      "  warnings.warn(\n"
     ]
    },
    {
     "name": "stdout",
     "output_type": "stream",
     "text": [
      "Training Accuracy: 0.9211328152679689\n",
      "Training Recall: 0.9052746702198624\n",
      "Training F1Score: 0.8961186383589345\n",
      "Testing Accuracy: 0.909872461029759\n",
      "Testing Recall: 0.9052665274717897\n",
      "Testing F1Score: 0.8907653225134313\n"
     ]
    },
    {
     "data": {
      "text/plain": [
       "['visitmodepredictor.pkl']"
      ]
     },
     "execution_count": 48,
     "metadata": {},
     "output_type": "execute_result"
    }
   ],
   "source": [
    "# Define the parameter grid\n",
    "import joblib\n",
    "from sklearn.model_selection import GridSearchCV\n",
    "param_grid = {\n",
    "    'n_estimators': [100],\n",
    "    'max_features': ['auto', 'sqrt', 'log2'],\n",
    "    'max_depth': [10, 20, 30, None],\n",
    "    'min_samples_split': [2, 5, 10],\n",
    "    'min_samples_leaf': [1, 2, 4],\n",
    "    'bootstrap': [True, False]\n",
    "}\n",
    "\n",
    "# Initialize the RandomForestClassifier\n",
    "rf = RandomForestClassifier()\n",
    "\n",
    "# Initialize GridSearchCV\n",
    "grid_search = GridSearchCV(estimator=rf, param_grid=param_grid, \n",
    "                           cv=5, n_jobs=-1, verbose=2)\n",
    "\n",
    "# Fit the model\n",
    "grid_search.fit(visitmode_x_train,visitmode_y_train)\n",
    "\n",
    "# Use the best model to make predictions\n",
    "best_model_vm = grid_search.best_estimator_\n",
    "visitmode_y_trainpred = best_model_vm.predict(visitmode_x_train)\n",
    "visitmode_y_testpred = best_model_vm.predict(visitmode_x_test)\n",
    "\n",
    "\n",
    "accuracy_train=metrics.accuracy_score(visitmode_y_trainpred,visitmode_y_train)\n",
    "recall_train=metrics.recall_score(visitmode_y_trainpred,visitmode_y_train,average='macro')\n",
    "f1score_train=metrics.f1_score(visitmode_y_trainpred,visitmode_y_train,average='macro')\n",
    "\n",
    "print(\"Training Accuracy:\",accuracy_train)\n",
    "print(\"Training Recall:\",recall_train)\n",
    "print(\"Training F1Score:\",f1score_train)\n",
    "\n",
    "\n",
    "# Checking the performance on Training Dataset\n",
    "accuracy_test=metrics.accuracy_score(visitmode_y_testpred,visitmode_y_test)\n",
    "recall_test=metrics.recall_score(visitmode_y_testpred,visitmode_y_test,average='macro')\n",
    "f1score_test=metrics.f1_score(visitmode_y_testpred,visitmode_y_test,average='macro')\n",
    "\n",
    "print(\"Testing Accuracy:\",accuracy_test)\n",
    "print(\"Testing Recall:\",recall_test)\n",
    "print(\"Testing F1Score:\",f1score_test)\n",
    "\n",
    "joblib.dump(best_model_vm,'visitmodepredictor.pkl')\n",
    "\n",
    "\n"
   ]
  },
  {
   "cell_type": "code",
   "execution_count": 53,
   "metadata": {},
   "outputs": [
    {
     "data": {
      "text/plain": [
       "CityId                                          0\n",
       "CountryId                                       0\n",
       "VisitModeId                                     0\n",
       "number_of_visits                                0\n",
       "season_Summer                                   0\n",
       "season_Monsoon                                  0\n",
       "season_Winter                                   0\n",
       "season_Spring                                   0\n",
       "IsVacationTime                                  0\n",
       "AttractionTypeId                                0\n",
       "MostVisitedAttractionTypeByUser                 0\n",
       "MostVisitedAttractionByUsersFromSameCity        0\n",
       "MostVisitedAttractionTypeByUsersFromSameCity    0\n",
       "MostVisitedAttractionByUsersFromSameCont        0\n",
       "MostVisitedAttractionTypeByUsersFromSameCont    0\n",
       "noofvisitsforAttractionEachMonth                0\n",
       "noofvisitsforAttractionTypeEachMonth            0\n",
       "dtype: int64"
      ]
     },
     "execution_count": 53,
     "metadata": {},
     "output_type": "execute_result"
    }
   ],
   "source": [
    "#Recomendation System\n",
    "from kmodes.kmodes import KModes\n",
    "from sklearn.preprocessing import StandardScaler\n",
    "\n",
    "#Create additional features based on the provided list:\n",
    "\n",
    "# Calculate additional features\n",
    "visitmode_df['MostVisitedAttractionTypeByUser'] = visitmode_df.groupby('UserId')['AttractionTypeId'].transform(lambda x: x.mode()[0] if not x.mode().empty else x.iloc[0])\n",
    "visitmode_df['MostVisitedAttractionByUsersFromSameCity'] = visitmode_df.groupby('CityId')['AttractionId'].transform(lambda x: x.mode()[0] if not x.mode().empty else x.iloc[0])\n",
    "visitmode_df['MostVisitedAttractionTypeByUsersFromSameCity'] = visitmode_df.groupby('CityId')['AttractionTypeId'].transform(lambda x: x.mode()[0] if not x.mode().empty else x.iloc[0])\n",
    "visitmode_df['MostVisitedAttractionByUsersFromSameCont'] = visitmode_df.groupby('CountryId')['AttractionId'].transform(lambda x: x.mode()[0] if not x.mode().empty else x.iloc[0])\n",
    "visitmode_df['MostVisitedAttractionTypeByUsersFromSameCont'] = visitmode_df.groupby('CountryId')['AttractionTypeId'].transform(lambda x: x.mode()[0] if not x.mode().empty else x.iloc[0])\n",
    "visitmode_df['noofvisitsforAttractionEachMonth'] = visitmode_df.groupby(['AttractionId', 'VisitMonth'])['UserId'].transform('count')\n",
    "visitmode_df['noofvisitsforAttractionTypeEachMonth'] = visitmode_df.groupby(['AttractionTypeId', 'VisitMonth'])['UserId'].transform('count')\n",
    "\n",
    "\n",
    "\n",
    "# K-Modes Clustering\n",
    "#Include the additional features in the clustering process:\n",
    "\n",
    "# Select features for clustering\n",
    "features = ['CityId', 'CountryId', 'VisitModeId', 'number_of_visits','season_Summer','season_Monsoon','season_Winter','season_Spring', 'IsVacationTime', 'AttractionTypeId',\n",
    "            'MostVisitedAttractionTypeByUser', 'MostVisitedAttractionByUsersFromSameCity','MostVisitedAttractionTypeByUsersFromSameCity','MostVisitedAttractionByUsersFromSameCont',\n",
    "            'MostVisitedAttractionTypeByUsersFromSameCont' ,'noofvisitsforAttractionEachMonth','noofvisitsforAttractionTypeEachMonth']\n",
    "data_features = visitmode_df[features]\n",
    "data_features.isnull().sum()\n",
    "\n",
    "\n",
    "\n"
   ]
  },
  {
   "cell_type": "code",
   "execution_count": 54,
   "metadata": {},
   "outputs": [
    {
     "name": "stdout",
     "output_type": "stream",
     "text": [
      "Init: initializing centroids\n",
      "Init: initializing clusters\n",
      "Starting iterations...\n",
      "Run 1, iteration: 1/100, moves: 15143, cost: 416527.0\n",
      "Run 1, iteration: 2/100, moves: 5056, cost: 413437.0\n",
      "Run 1, iteration: 3/100, moves: 886, cost: 413340.0\n",
      "Run 1, iteration: 4/100, moves: 11, cost: 413340.0\n",
      "Init: initializing centroids\n",
      "Init: initializing clusters\n",
      "Starting iterations...\n",
      "Run 2, iteration: 1/100, moves: 20536, cost: 418472.0\n",
      "Run 2, iteration: 2/100, moves: 3859, cost: 418421.0\n",
      "Run 2, iteration: 3/100, moves: 9, cost: 418421.0\n",
      "Init: initializing centroids\n",
      "Init: initializing clusters\n",
      "Starting iterations...\n",
      "Run 3, iteration: 1/100, moves: 18818, cost: 417884.0\n",
      "Run 3, iteration: 2/100, moves: 2995, cost: 417766.0\n",
      "Run 3, iteration: 3/100, moves: 121, cost: 417766.0\n",
      "Init: initializing centroids\n",
      "Init: initializing clusters\n",
      "Starting iterations...\n",
      "Run 4, iteration: 1/100, moves: 17241, cost: 410325.0\n",
      "Run 4, iteration: 2/100, moves: 4036, cost: 408948.0\n",
      "Run 4, iteration: 3/100, moves: 126, cost: 408948.0\n",
      "Init: initializing centroids\n",
      "Init: initializing clusters\n",
      "Starting iterations...\n",
      "Run 5, iteration: 1/100, moves: 14030, cost: 418564.0\n",
      "Run 5, iteration: 2/100, moves: 7854, cost: 416955.0\n",
      "Run 5, iteration: 3/100, moves: 1905, cost: 416955.0\n",
      "Best run was number 4\n"
     ]
    }
   ],
   "source": [
    "# Preprocess the data (e.g., encoding categorical variables, scaling)\n",
    "#data_features = pd.get_dummies(data_features)\n",
    "scaler = StandardScaler()\n",
    "data_features_scaled = scaler.fit_transform(data_features)\n",
    "\n",
    "# Apply K-means clustering\n",
    "kmodes = KModes(n_clusters=5, init='Huang', n_init=5, verbose=1)\n",
    "visitmode_df['Cluster'] = kmodes.fit_predict(data_features_scaled)\n",
    "visitmode_df.to_csv(\"Recomendationsystem\")"
   ]
  },
  {
   "cell_type": "code",
   "execution_count": null,
   "metadata": {},
   "outputs": [],
   "source": [
    "#Generate recommendations for a user based on their cluster and predicted ratings:\n",
    "\n",
    "# Function to get recommendations for a user based on cluster\n",
    "def get_cluster_recommendations(user_id, model, data, top_n=10):\n",
    "    user_cluster = data[data['UserId'] == user_id]['Cluster'].values[0]\n",
    "    similar_users = data[data['Cluster'] == user_cluster]['UserId'].unique()\n",
    "    all_attractions = data['AttractionId'].unique()\n",
    "    user_attractions = data[data['UserId'] == user_id]['AttractionId'].unique()\n",
    "    recommendations = []\n",
    "    \n",
    "    for attraction_id in all_attractions:\n",
    "        if attraction_id not in user_attractions:\n",
    "            est_rating = model.predict(user_id, attraction_id).est\n",
    "            recommendations.append((attraction_id, est_rating))\n",
    "    \n",
    "    recommendations.sort(key=lambda x: x[1], reverse=True)\n",
    "    top_recommendations = [attraction_id for attraction_id, rating in recommendations[:top_n]]\n",
    "    return top_recommendations\n",
    "\n"
   ]
  }
 ],
 "metadata": {
  "kernelspec": {
   "display_name": "Python 3",
   "language": "python",
   "name": "python3"
  },
  "language_info": {
   "codemirror_mode": {
    "name": "ipython",
    "version": 3
   },
   "file_extension": ".py",
   "mimetype": "text/x-python",
   "name": "python",
   "nbconvert_exporter": "python",
   "pygments_lexer": "ipython3",
   "version": "3.12.8"
  }
 },
 "nbformat": 4,
 "nbformat_minor": 2
}
